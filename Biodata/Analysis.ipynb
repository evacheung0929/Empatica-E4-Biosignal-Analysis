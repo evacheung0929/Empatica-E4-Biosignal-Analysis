{
 "cells": [
  {
   "cell_type": "code",
   "execution_count": 3,
   "metadata": {},
   "outputs": [],
   "source": [
    "import numpy as np\n",
    "import pandas as pd\n",
    "import matplotlib.pyplot as plt \n",
    "import glob\n",
    "import time"
   ]
  },
  {
   "cell_type": "markdown",
   "metadata": {},
   "source": [
    "# Duration"
   ]
  },
  {
   "cell_type": "code",
   "execution_count": null,
   "metadata": {},
   "outputs": [],
   "source": [
    "\n",
    "user = str(1)\n",
    "\n",
    "# Weighted\n",
    "# 01_Martina   ---- 1\n",
    "# 01_Ming      ---- 2\n",
    "# 01_Peter     ---- 3\n",
    "# 01_ZiJun     ---- 4\n",
    "\n",
    "# Latency\n",
    "# 00_Dong      ---- 1\n",
    "# 00_Kelin--   ---- 2\n",
    "# 00_Mariya    ---- 3\n",
    "# 00_Mat--     ---- 4\n",
    "# 00_Wei       ---- 5\n",
    "# 01_Yukun     ---- 6\n",
    "\n",
    "path = 'C:/Users/evach/Documents/MSc/Diss_data/3_set_baseline/Human/Digby/com/Duration/'\n",
    "csv_files = glob.glob(path +'/*.csv')\n",
    "d_df_lst = [pd.read_csv(i) for i in csv_files]\n",
    "\n",
    "# EDA ---> 0g, 500g, 1kg\n",
    "duration_one_eda = d_df_lst[0]  \n",
    "duration_two_eda = d_df_lst[3] \n",
    "duration_three_eda = d_df_lst[6] \n",
    "\n",
    "# HR\n",
    "duration_one_hr = d_df_lst[1]  \n",
    "duration_two_hr = d_df_lst[4] \n",
    "duration_three_hr = d_df_lst[7] \n",
    "\n",
    "# TEMP\n",
    "duration_one_temp = d_df_lst[2]  \n",
    "duration_two_temp = d_df_lst[5] \n",
    "duration_three_temp = d_df_lst[8] \n",
    "\n",
    "\n",
    "hr = [duration_one_hr, duration_two_hr,duration_three_hr]\n",
    "eda = [duration_one_eda, duration_two_eda,duration_three_eda]\n",
    "temp =  [duration_one_temp, duration_two_temp,duration_three_temp]"
   ]
  },
  {
   "cell_type": "markdown",
   "metadata": {},
   "source": [
    "# Resting"
   ]
  },
  {
   "cell_type": "code",
   "execution_count": null,
   "metadata": {},
   "outputs": [],
   "source": [
    "path = 'C:/Users/evach/Documents/MSc/Diss_data/3_set_baseline/Human/Digby/com/Rest/'\n",
    "csv_files = glob.glob(path +'/*.csv')\n",
    "r_df_lst = [pd.read_csv(i) for i in csv_files]\n",
    "\n",
    "# EDA\n",
    "r_one_eda = r_df_lst[0]  \n",
    "r_two_eda = r_df_lst[3] \n",
    "r_three_eda = r_df_lst[6] \n",
    "\n",
    "# HR\n",
    "r_one_hr = r_df_lst[1]  \n",
    "r_two_hr = r_df_lst[4] \n",
    "r_three_hr = r_df_lst[7] \n",
    "\n",
    "# TEMP\n",
    "r_one_temp = r_df_lst[2]  \n",
    "r_two_temp = r_df_lst[5] \n",
    "r_three_temp = r_df_lst[8] \n",
    "\n",
    "\n",
    "hr_r = [r_one_hr, r_two_hr,r_three_hr]\n",
    "eda_r = [r_one_eda, r_two_eda,r_three_eda]\n",
    "temp_r = [r_one_temp, r_two_temp,r_three_temp]\n",
    "\n",
    "\n",
    "# a = rest()\n",
    "# a[0]  ---> eda_r\n",
    "# a[0][0]  ---> eda_r[0] ---> r_one_eda\n",
    "def rest(data =hr_r, data_2 = eda_r, data_3 = temp_r):\n",
    "    col_name = set(['distance','IBI_1'])\n",
    "    for i in range(0,len(data)):\n",
    "        data[i].drop('timeStamp', axis = 1, inplace = True)\n",
    "        data_2[i].drop('timeStamp', axis = 1, inplace = True)\n",
    "        data_3[i].drop('timeStamp', axis = 1, inplace = True)\n",
    "\n",
    "        if col_name.issubset(data[i].columns):\n",
    "            data[i].drop(['distance','IBI_1'], axis = 1, inplace = True)  \n",
    "\n",
    "        if col_name.issubset(data[i].columns):\n",
    "            data_2[i].drop(['distance','IBI_1'], axis = 1, inplace = True)  \n",
    "\n",
    "    return data\n",
    "\n",
    "rest()"
   ]
  },
  {
   "cell_type": "markdown",
   "metadata": {},
   "source": [
    "# Statistic frame of the data for confirming the plateau region"
   ]
  },
  {
   "cell_type": "code",
   "execution_count": 955,
   "metadata": {},
   "outputs": [],
   "source": [
    "from scipy import stats\n",
    "from itertools import chain\n",
    "\n",
    "num_sets = 3\n",
    "def general_trend_stat(sets):\n",
    "  hold = [ [] for i in range(0,num_sets) ]\n",
    "  stat_frame = [pd.DataFrame() for k in range(num_sets)]\n",
    "\n",
    "  # for each data set/ condition, calcualte the stats\n",
    "  for k in range(0, num_sets):\n",
    "    x = range(0, len(sets[k]))\n",
    "    for column in sets[k]:\n",
    "      slope, intercept, r_value, p_value, std_err = stats.linregress(x, sets[k].loc[:,column])\n",
    "      hold[k].append((slope,r_value,p_value,std_err))\n",
    "\n",
    "    stat_frame[k] = pd.DataFrame(hold[k], columns = ['slope', 'r_value', 'p_value', 'std_err'])\n",
    "  return stat_frame\n",
    "\n"
   ]
  },
  {
   "cell_type": "code",
   "execution_count": 956,
   "metadata": {},
   "outputs": [
    {
     "data": {
      "text/html": [
       "<div>\n",
       "<style scoped>\n",
       "    .dataframe tbody tr th:only-of-type {\n",
       "        vertical-align: middle;\n",
       "    }\n",
       "\n",
       "    .dataframe tbody tr th {\n",
       "        vertical-align: top;\n",
       "    }\n",
       "\n",
       "    .dataframe thead th {\n",
       "        text-align: right;\n",
       "    }\n",
       "</style>\n",
       "<table border=\"1\" class=\"dataframe\">\n",
       "  <thead>\n",
       "    <tr style=\"text-align: right;\">\n",
       "      <th></th>\n",
       "      <th>slope</th>\n",
       "      <th>r_value</th>\n",
       "      <th>p_value</th>\n",
       "      <th>std_err</th>\n",
       "    </tr>\n",
       "  </thead>\n",
       "  <tbody>\n",
       "    <tr>\n",
       "      <th>0</th>\n",
       "      <td>-0.056282</td>\n",
       "      <td>-0.146584</td>\n",
       "      <td>2.637384e-01</td>\n",
       "      <td>0.049871</td>\n",
       "    </tr>\n",
       "    <tr>\n",
       "      <th>1</th>\n",
       "      <td>0.041035</td>\n",
       "      <td>0.119973</td>\n",
       "      <td>3.612119e-01</td>\n",
       "      <td>0.044587</td>\n",
       "    </tr>\n",
       "    <tr>\n",
       "      <th>2</th>\n",
       "      <td>0.247012</td>\n",
       "      <td>0.555659</td>\n",
       "      <td>4.054021e-06</td>\n",
       "      <td>0.048530</td>\n",
       "    </tr>\n",
       "    <tr>\n",
       "      <th>3</th>\n",
       "      <td>-0.291384</td>\n",
       "      <td>-0.685679</td>\n",
       "      <td>1.495273e-09</td>\n",
       "      <td>0.040617</td>\n",
       "    </tr>\n",
       "    <tr>\n",
       "      <th>4</th>\n",
       "      <td>-0.048595</td>\n",
       "      <td>-0.134500</td>\n",
       "      <td>3.055609e-01</td>\n",
       "      <td>0.047010</td>\n",
       "    </tr>\n",
       "    <tr>\n",
       "      <th>5</th>\n",
       "      <td>0.125071</td>\n",
       "      <td>0.271930</td>\n",
       "      <td>3.556787e-02</td>\n",
       "      <td>0.058117</td>\n",
       "    </tr>\n",
       "    <tr>\n",
       "      <th>6</th>\n",
       "      <td>0.166459</td>\n",
       "      <td>0.299017</td>\n",
       "      <td>2.029613e-02</td>\n",
       "      <td>0.069752</td>\n",
       "    </tr>\n",
       "    <tr>\n",
       "      <th>7</th>\n",
       "      <td>-0.108599</td>\n",
       "      <td>-0.260831</td>\n",
       "      <td>4.412757e-02</td>\n",
       "      <td>0.052778</td>\n",
       "    </tr>\n",
       "    <tr>\n",
       "      <th>8</th>\n",
       "      <td>0.210005</td>\n",
       "      <td>0.661479</td>\n",
       "      <td>8.735752e-09</td>\n",
       "      <td>0.031264</td>\n",
       "    </tr>\n",
       "    <tr>\n",
       "      <th>9</th>\n",
       "      <td>0.060508</td>\n",
       "      <td>0.234206</td>\n",
       "      <td>7.168185e-02</td>\n",
       "      <td>0.032980</td>\n",
       "    </tr>\n",
       "  </tbody>\n",
       "</table>\n",
       "</div>"
      ],
      "text/plain": [
       "      slope   r_value       p_value   std_err\n",
       "0 -0.056282 -0.146584  2.637384e-01  0.049871\n",
       "1  0.041035  0.119973  3.612119e-01  0.044587\n",
       "2  0.247012  0.555659  4.054021e-06  0.048530\n",
       "3 -0.291384 -0.685679  1.495273e-09  0.040617\n",
       "4 -0.048595 -0.134500  3.055609e-01  0.047010\n",
       "5  0.125071  0.271930  3.556787e-02  0.058117\n",
       "6  0.166459  0.299017  2.029613e-02  0.069752\n",
       "7 -0.108599 -0.260831  4.412757e-02  0.052778\n",
       "8  0.210005  0.661479  8.735752e-09  0.031264\n",
       "9  0.060508  0.234206  7.168185e-02  0.032980"
      ]
     },
     "execution_count": 956,
     "metadata": {},
     "output_type": "execute_result"
    }
   ],
   "source": [
    "hr_pct = general_trend_stat(hr)\n",
    "eda_pct = general_trend_stat(eda)\n",
    "temp_pct = general_trend_stat(temp)\n",
    "\n",
    "hr_pct[0]"
   ]
  },
  {
   "cell_type": "code",
   "execution_count": 957,
   "metadata": {},
   "outputs": [
    {
     "data": {
      "text/html": [
       "<div>\n",
       "<style scoped>\n",
       "    .dataframe tbody tr th:only-of-type {\n",
       "        vertical-align: middle;\n",
       "    }\n",
       "\n",
       "    .dataframe tbody tr th {\n",
       "        vertical-align: top;\n",
       "    }\n",
       "\n",
       "    .dataframe thead th {\n",
       "        text-align: right;\n",
       "    }\n",
       "</style>\n",
       "<table border=\"1\" class=\"dataframe\">\n",
       "  <thead>\n",
       "    <tr style=\"text-align: right;\">\n",
       "      <th></th>\n",
       "      <th>slope</th>\n",
       "      <th>r_value</th>\n",
       "      <th>p_value</th>\n",
       "      <th>std_err</th>\n",
       "    </tr>\n",
       "  </thead>\n",
       "  <tbody>\n",
       "    <tr>\n",
       "      <th>0</th>\n",
       "      <td>-0.056282</td>\n",
       "      <td>-0.146584</td>\n",
       "      <td>2.637384e-01</td>\n",
       "      <td>0.049871</td>\n",
       "    </tr>\n",
       "    <tr>\n",
       "      <th>1</th>\n",
       "      <td>0.041035</td>\n",
       "      <td>0.119973</td>\n",
       "      <td>3.612119e-01</td>\n",
       "      <td>0.044587</td>\n",
       "    </tr>\n",
       "    <tr>\n",
       "      <th>2</th>\n",
       "      <td>0.247012</td>\n",
       "      <td>0.555659</td>\n",
       "      <td>4.054021e-06</td>\n",
       "      <td>0.048530</td>\n",
       "    </tr>\n",
       "    <tr>\n",
       "      <th>3</th>\n",
       "      <td>-0.291384</td>\n",
       "      <td>-0.685679</td>\n",
       "      <td>1.495273e-09</td>\n",
       "      <td>0.040617</td>\n",
       "    </tr>\n",
       "    <tr>\n",
       "      <th>4</th>\n",
       "      <td>-0.048595</td>\n",
       "      <td>-0.134500</td>\n",
       "      <td>3.055609e-01</td>\n",
       "      <td>0.047010</td>\n",
       "    </tr>\n",
       "    <tr>\n",
       "      <th>5</th>\n",
       "      <td>0.125071</td>\n",
       "      <td>0.271930</td>\n",
       "      <td>3.556787e-02</td>\n",
       "      <td>0.058117</td>\n",
       "    </tr>\n",
       "    <tr>\n",
       "      <th>6</th>\n",
       "      <td>0.166459</td>\n",
       "      <td>0.299017</td>\n",
       "      <td>2.029613e-02</td>\n",
       "      <td>0.069752</td>\n",
       "    </tr>\n",
       "    <tr>\n",
       "      <th>7</th>\n",
       "      <td>-0.108599</td>\n",
       "      <td>-0.260831</td>\n",
       "      <td>4.412757e-02</td>\n",
       "      <td>0.052778</td>\n",
       "    </tr>\n",
       "    <tr>\n",
       "      <th>8</th>\n",
       "      <td>0.210005</td>\n",
       "      <td>0.661479</td>\n",
       "      <td>8.735752e-09</td>\n",
       "      <td>0.031264</td>\n",
       "    </tr>\n",
       "    <tr>\n",
       "      <th>9</th>\n",
       "      <td>0.060508</td>\n",
       "      <td>0.234206</td>\n",
       "      <td>7.168185e-02</td>\n",
       "      <td>0.032980</td>\n",
       "    </tr>\n",
       "  </tbody>\n",
       "</table>\n",
       "</div>"
      ],
      "text/plain": [
       "      slope   r_value       p_value   std_err\n",
       "0 -0.056282 -0.146584  2.637384e-01  0.049871\n",
       "1  0.041035  0.119973  3.612119e-01  0.044587\n",
       "2  0.247012  0.555659  4.054021e-06  0.048530\n",
       "3 -0.291384 -0.685679  1.495273e-09  0.040617\n",
       "4 -0.048595 -0.134500  3.055609e-01  0.047010\n",
       "5  0.125071  0.271930  3.556787e-02  0.058117\n",
       "6  0.166459  0.299017  2.029613e-02  0.069752\n",
       "7 -0.108599 -0.260831  4.412757e-02  0.052778\n",
       "8  0.210005  0.661479  8.735752e-09  0.031264\n",
       "9  0.060508  0.234206  7.168185e-02  0.032980"
      ]
     },
     "execution_count": 957,
     "metadata": {},
     "output_type": "execute_result"
    }
   ],
   "source": [
    "hr_pct[0]"
   ]
  },
  {
   "cell_type": "markdown",
   "metadata": {},
   "source": [
    "## Find the plateau using plots"
   ]
  },
  {
   "cell_type": "code",
   "execution_count": 958,
   "metadata": {},
   "outputs": [
    {
     "data": {
      "image/png": "[encoded data removed]",
      "text/plain": [
       "<Figure size 432x288 with 1 Axes>"
      ]
     },
     "metadata": {
      "needs_background": "light"
     },
     "output_type": "display_data"
    },
    {
     "data": {
      "image/png": "[encoded data removed]",
      "text/plain": [
       "<Figure size 432x288 with 1 Axes>"
      ]
     },
     "metadata": {
      "needs_background": "light"
     },
     "output_type": "display_data"
    },
    {
     "data": {
      "image/png": "[encoded data removed]",
      "text/plain": [
       "<Figure size 432x288 with 1 Axes>"
      ]
     },
     "metadata": {
      "needs_background": "light"
     },
     "output_type": "display_data"
    }
   ],
   "source": [
    "def plt_slope(name, sets):\n",
    "  \n",
    "  for i in range(num_sets):\n",
    "    x = range(0, len(sets[i]))\n",
    "    y = sets[i]['slope']\n",
    "    l = name+' slope '+str(i+1)\n",
    "\n",
    "    plt.plot(x, y, label = i)\n",
    "    plt.legend()\n",
    "  plt.show()\n",
    "\n",
    "plt_slope('HR', hr_pct)\n",
    "plt_slope('EDA', eda_pct)\n",
    "plt_slope('TEMP', temp_pct)"
   ]
  },
  {
   "cell_type": "markdown",
   "metadata": {},
   "source": [
    "# concat the stable region"
   ]
  },
  {
   "cell_type": "code",
   "execution_count": 959,
   "metadata": {},
   "outputs": [],
   "source": [
    "def stable_regions(sets):\n",
    "  set_1 = sets[0].columns[6:]\n",
    "  set_2 = sets[1].columns[6:]\n",
    "  set_3 = sets[2].columns[6:]\n",
    "\n",
    "  data_stable_1 = sets[0].loc[:, set_1]\n",
    "  data_stable_2 = sets[1].loc[:, set_2]\n",
    "  data_stable_3 = sets[2].loc[:, set_3]\n",
    "\n",
    "  data_stable_1.columns = ['set 1','set 1','set 1','set 1']\n",
    "  data_stable_2.columns = ['set 2','set 2','set 2','set 2']\n",
    "  data_stable_3.columns = ['set 3','set 3','set 3','set 3']\n",
    "\n",
    "  return data_stable_1, data_stable_2, data_stable_3\n",
    "\n",
    "hr_stable = stable_regions(hr)\n",
    "eda_stable = stable_regions(eda)\n",
    "temp_stable = stable_regions(temp)"
   ]
  },
  {
   "cell_type": "code",
   "execution_count": 960,
   "metadata": {},
   "outputs": [],
   "source": [
    "\n",
    "# uncomment below to get the row mean (across different trials) of the stable region\n",
    "# def row_mean(data):\n",
    "#   s1_row_mean = data[0].mean(axis = 1)\n",
    "#   s2_row_mean = data[1].mean(axis = 1)\n",
    "#   s3_row_mean = data[2].mean(axis = 1)\n",
    "  \n",
    "#   row_m_stable = pd.concat( [s1_row_mean, s2_row_mean, s3_row_mean], axis = 1)\n",
    "#   row_m_stable.columns = ['data set1','data set2','data set3']\n",
    "  \n",
    "#   return row_m_stable\n",
    "\n",
    "\n",
    "# uncomment below to get the col mean among each trial\n",
    "def trial_mean(data):\n",
    "  s1_t_mean = data[0].mean(axis = 0)\n",
    "  s2_t_mean = data[1].mean(axis = 0)\n",
    "  s3_t_mean = data[2].mean(axis = 0)\n",
    "  \n",
    "  col_m_stable = pd.concat( [s1_t_mean, s2_t_mean, s3_t_mean])\n",
    "  # row_m_stable.columns = ['data set1','data set2','data set3']\n",
    "  \n",
    "  return col_m_stable\n",
    "\n",
    "\n",
    "\n",
    "def concat_rest(name, data):\n",
    "  rest = pd.concat( [data[0], data[1], data[2]], axis = 1)\n",
    "  col_1 = str(name) +'_rest_1'\n",
    "  col_2 = str(name) +'_rest_2'\n",
    "  col_3 = str(name) +'_rest_3'\n",
    "  rest.columns = [col_1, col_2, col_3]\n",
    "  return rest\n"
   ]
  },
  {
   "cell_type": "markdown",
   "metadata": {},
   "source": [
    "Column mean for resting & row mean for duration"
   ]
  },
  {
   "cell_type": "code",
   "execution_count": 961,
   "metadata": {},
   "outputs": [],
   "source": [
    "hr_rest_mean = concat_rest('HR',hr_r).mean()\n",
    "eda_rest_mean = concat_rest('EDA', eda_r).mean()\n",
    "temp_rest_mean = concat_rest('TEMP', temp_r).mean()\n"
   ]
  },
  {
   "cell_type": "code",
   "execution_count": 962,
   "metadata": {},
   "outputs": [],
   "source": [
    "\n",
    "# Uncomment below for taking the avg of each trial of the stable data\n",
    "\n",
    "hr_mean = trial_mean(hr_stable)\n",
    "eda_mean =trial_mean(eda_stable)\n",
    "temp_mean = trial_mean(temp_stable)\n",
    "\n",
    "\n",
    "# Uncomment below for taking the avg of the row and col of the data\n",
    "# hr_row_mean  = row_mean(hr_stable)\n",
    "# eda_row_mean  = row_mean(eda_stable)\n",
    "# temp_row_mean  = row_mean(temp_stable)\n",
    "# # plt.plot(range(0,len(hr_row_mean)), hr_row_mean.loc[:,'data set1'], label = 'set 1')\n",
    "# # plt.plot(range(0,len(hr_row_mean)), hr_row_mean.loc[:,'data set2'],label = 'set 2')\n",
    "# # plt.plot(range(0,len(hr_row_mean)), hr_row_mean.loc[:,'data set3'],label = 'set 3')\n",
    "# # plt.legend()\n",
    "\n",
    "# def col_mean(data):\n",
    "#   col_m = data.mean()\n",
    "#   col_mean_frame = pd.DataFrame(data = [col_m]) # without [] it reutrns 3 rows of data\n",
    "#   return col_mean_frame\n",
    "\n",
    "# hr_mean = col_mean(hr_row_mean)\n",
    "# eda_mean = col_mean(eda_row_mean)\n",
    "# temp_mean = col_mean(temp_row_mean)"
   ]
  },
  {
   "cell_type": "code",
   "execution_count": 963,
   "metadata": {},
   "outputs": [
    {
     "name": "stdout",
     "output_type": "stream",
     "text": [
      "set 1     86.663890\n",
      "set 1     86.600697\n",
      "set 1     77.441317\n",
      "set 1     76.163420\n",
      "set 2     72.603068\n",
      "set 2     92.057644\n",
      "set 2    103.115072\n",
      "set 2     97.433604\n",
      "set 3     70.130980\n",
      "set 3     76.177639\n",
      "set 3     72.315029\n",
      "set 3     70.148666\n",
      "dtype: float64\n",
      "HR_rest_1    69.018325\n",
      "HR_rest_2    57.756737\n",
      "HR_rest_3    63.125926\n",
      "dtype: float64\n"
     ]
    }
   ],
   "source": [
    "# d1 = set 1, d2 = set 2, d3 = set 3\n",
    "print(hr_mean)\n",
    "print(hr_rest_mean)"
   ]
  },
  {
   "cell_type": "markdown",
   "metadata": {},
   "source": [
    "# Subtract each set of the heart rate data against its own resting rate data"
   ]
  },
  {
   "cell_type": "code",
   "execution_count": 964,
   "metadata": {},
   "outputs": [],
   "source": [
    "# step = 4\n",
    "# ls = []\n",
    "# for i in range(0,len(hr_mean),step):\n",
    "#     ls.append(hr_mean[i:i+step])\n",
    "# ls"
   ]
  },
  {
   "cell_type": "code",
   "execution_count": 965,
   "metadata": {},
   "outputs": [],
   "source": [
    "def final(duration, rest, step = 4, ls=[], num_sets = 3):\n",
    "    final_data = [[] for i in range(0,num_sets)]\n",
    "    for i in range(0,len(duration), step):\n",
    "        ls.append(duration[i:i+step])\n",
    "    for j in range(0, num_sets):\n",
    "        final_data[j] = ls[j] - rest[j]\n",
    "    return final_data\n"
   ]
  },
  {
   "cell_type": "markdown",
   "metadata": {},
   "source": [
    "final_hr[0] ---> the 4 stable trial heart rate deviation from resting"
   ]
  },
  {
   "cell_type": "code",
   "execution_count": 966,
   "metadata": {},
   "outputs": [],
   "source": [
    "final_hr = final(hr_mean,hr_rest_mean)\n",
    "final_eda = final(eda_mean,eda_rest_mean)\n",
    "final_temp =  final(temp_mean, temp_rest_mean)\n"
   ]
  },
  {
   "cell_type": "code",
   "execution_count": 967,
   "metadata": {},
   "outputs": [],
   "source": [
    "final_hr = pd.concat(final_hr)\n",
    "final_eda = pd.concat(final_eda)\n",
    "final_temp = pd.concat(final_temp)"
   ]
  },
  {
   "cell_type": "code",
   "execution_count": 968,
   "metadata": {},
   "outputs": [],
   "source": [
    "combine_3 = pd.concat([final_hr, final_eda, final_temp], axis =1)\n",
    "combine_3.reset_index(drop=False,inplace= True)\n",
    "combine_3.columns = ['Sets','HR','EDA','TEMP']"
   ]
  },
  {
   "cell_type": "code",
   "execution_count": 969,
   "metadata": {},
   "outputs": [
    {
     "data": {
      "text/html": [
       "<div>\n",
       "<style scoped>\n",
       "    .dataframe tbody tr th:only-of-type {\n",
       "        vertical-align: middle;\n",
       "    }\n",
       "\n",
       "    .dataframe tbody tr th {\n",
       "        vertical-align: top;\n",
       "    }\n",
       "\n",
       "    .dataframe thead th {\n",
       "        text-align: right;\n",
       "    }\n",
       "</style>\n",
       "<table border=\"1\" class=\"dataframe\">\n",
       "  <thead>\n",
       "    <tr style=\"text-align: right;\">\n",
       "      <th></th>\n",
       "      <th>Sets</th>\n",
       "      <th>HR</th>\n",
       "      <th>EDA</th>\n",
       "      <th>TEMP</th>\n",
       "    </tr>\n",
       "  </thead>\n",
       "  <tbody>\n",
       "    <tr>\n",
       "      <th>0</th>\n",
       "      <td>set 1</td>\n",
       "      <td>17.645565</td>\n",
       "      <td>86.324800</td>\n",
       "      <td>55.108011</td>\n",
       "    </tr>\n",
       "    <tr>\n",
       "      <th>1</th>\n",
       "      <td>set 1</td>\n",
       "      <td>17.582371</td>\n",
       "      <td>86.261606</td>\n",
       "      <td>55.044817</td>\n",
       "    </tr>\n",
       "    <tr>\n",
       "      <th>2</th>\n",
       "      <td>set 1</td>\n",
       "      <td>8.422992</td>\n",
       "      <td>77.102227</td>\n",
       "      <td>45.885438</td>\n",
       "    </tr>\n",
       "    <tr>\n",
       "      <th>3</th>\n",
       "      <td>set 1</td>\n",
       "      <td>7.145095</td>\n",
       "      <td>75.824330</td>\n",
       "      <td>44.607541</td>\n",
       "    </tr>\n",
       "    <tr>\n",
       "      <th>4</th>\n",
       "      <td>set 2</td>\n",
       "      <td>14.846331</td>\n",
       "      <td>72.280084</td>\n",
       "      <td>41.594090</td>\n",
       "    </tr>\n",
       "    <tr>\n",
       "      <th>5</th>\n",
       "      <td>set 2</td>\n",
       "      <td>34.300907</td>\n",
       "      <td>91.734660</td>\n",
       "      <td>61.048666</td>\n",
       "    </tr>\n",
       "    <tr>\n",
       "      <th>6</th>\n",
       "      <td>set 2</td>\n",
       "      <td>45.358335</td>\n",
       "      <td>102.792089</td>\n",
       "      <td>72.106094</td>\n",
       "    </tr>\n",
       "    <tr>\n",
       "      <th>7</th>\n",
       "      <td>set 2</td>\n",
       "      <td>39.676867</td>\n",
       "      <td>97.110620</td>\n",
       "      <td>66.424626</td>\n",
       "    </tr>\n",
       "    <tr>\n",
       "      <th>8</th>\n",
       "      <td>set 3</td>\n",
       "      <td>7.005055</td>\n",
       "      <td>69.579852</td>\n",
       "      <td>36.695211</td>\n",
       "    </tr>\n",
       "    <tr>\n",
       "      <th>9</th>\n",
       "      <td>set 3</td>\n",
       "      <td>13.051713</td>\n",
       "      <td>75.626511</td>\n",
       "      <td>42.741870</td>\n",
       "    </tr>\n",
       "    <tr>\n",
       "      <th>10</th>\n",
       "      <td>set 3</td>\n",
       "      <td>9.189104</td>\n",
       "      <td>71.763901</td>\n",
       "      <td>38.879260</td>\n",
       "    </tr>\n",
       "    <tr>\n",
       "      <th>11</th>\n",
       "      <td>set 3</td>\n",
       "      <td>7.022740</td>\n",
       "      <td>69.597538</td>\n",
       "      <td>36.712896</td>\n",
       "    </tr>\n",
       "  </tbody>\n",
       "</table>\n",
       "</div>"
      ],
      "text/plain": [
       "     Sets         HR         EDA       TEMP\n",
       "0   set 1  17.645565   86.324800  55.108011\n",
       "1   set 1  17.582371   86.261606  55.044817\n",
       "2   set 1   8.422992   77.102227  45.885438\n",
       "3   set 1   7.145095   75.824330  44.607541\n",
       "4   set 2  14.846331   72.280084  41.594090\n",
       "5   set 2  34.300907   91.734660  61.048666\n",
       "6   set 2  45.358335  102.792089  72.106094\n",
       "7   set 2  39.676867   97.110620  66.424626\n",
       "8   set 3   7.005055   69.579852  36.695211\n",
       "9   set 3  13.051713   75.626511  42.741870\n",
       "10  set 3   9.189104   71.763901  38.879260\n",
       "11  set 3   7.022740   69.597538  36.712896"
      ]
     },
     "execution_count": 969,
     "metadata": {},
     "output_type": "execute_result"
    }
   ],
   "source": [
    "combine_3"
   ]
  },
  {
   "cell_type": "markdown",
   "metadata": {},
   "source": [
    "# Save the combined data for each participant to local file"
   ]
  },
  {
   "cell_type": "code",
   "execution_count": 970,
   "metadata": {},
   "outputs": [],
   "source": [
    "path = 'C:/Users/evach/Documents/MSc/Diss_data/3_set_baseline/Human/combine/'\n",
    "\n",
    "# path = 'C:/Users/evach/Documents/MSc/Diss_data/3_set_baseline/Latency/combine/'\n",
    "# path = 'C:/Users/evach/Documents/MSc/Diss_data/3_set_baseline/Weighted/combine/'\n",
    "\n",
    "combine_3.to_csv(path+user+'.csv')"
   ]
  },
  {
   "cell_type": "markdown",
   "metadata": {},
   "source": [
    "# Reading the downloaded combine files for all participant"
   ]
  },
  {
   "cell_type": "markdown",
   "metadata": {},
   "source": []
  },
  {
   "cell_type": "code",
   "execution_count": 52,
   "metadata": {},
   "outputs": [
    {
     "ename": "NameError",
     "evalue": "name 'glob' is not defined",
     "output_type": "error",
     "traceback": [
      "\u001b[1;31m---------------------------------------------------------------------------\u001b[0m",
      "\u001b[1;31mNameError\u001b[0m                                 Traceback (most recent call last)",
      "\u001b[1;32m~\\AppData\\Local\\Temp\\ipykernel_5992\\2104472414.py\u001b[0m in \u001b[0;36m<cell line: 6>\u001b[1;34m()\u001b[0m\n\u001b[0;32m      4\u001b[0m \u001b[1;33m\u001b[0m\u001b[0m\n\u001b[0;32m      5\u001b[0m \u001b[0mpath\u001b[0m \u001b[1;33m=\u001b[0m \u001b[1;34m'C:/Users/evach/Documents/MSc/Diss_data/3_set_baseline/All/Latency_Biosignals_4/'\u001b[0m\u001b[1;33m\u001b[0m\u001b[1;33m\u001b[0m\u001b[0m\n\u001b[1;32m----> 6\u001b[1;33m \u001b[0mcsv_combine\u001b[0m \u001b[1;33m=\u001b[0m \u001b[0mglob\u001b[0m\u001b[1;33m.\u001b[0m\u001b[0mglob\u001b[0m\u001b[1;33m(\u001b[0m\u001b[0mpath\u001b[0m \u001b[1;33m+\u001b[0m\u001b[1;34m'/*.csv'\u001b[0m\u001b[1;33m)\u001b[0m\u001b[1;33m\u001b[0m\u001b[1;33m\u001b[0m\u001b[0m\n\u001b[0m\u001b[0;32m      7\u001b[0m \u001b[1;33m\u001b[0m\u001b[0m\n\u001b[0;32m      8\u001b[0m \u001b[1;31m# Read & reset the index of each data to be the user ID\u001b[0m\u001b[1;33m\u001b[0m\u001b[1;33m\u001b[0m\u001b[0m\n",
      "\u001b[1;31mNameError\u001b[0m: name 'glob' is not defined"
     ]
    }
   ],
   "source": [
    "# tst = 'Latency'\n",
    "# tst = 'Weighted'\n",
    "tst = 'Latency'\n",
    "\n",
    "path = 'C:/Users/evach/Documents/MSc/Diss_data/3_set_baseline/All/Latency_Biosignals_4/'\n",
    "csv_combine = glob.glob(path +'/*.csv')\n",
    "\n",
    "# Read & reset the index of each data to be the user ID\n",
    "\n",
    "lst = [pd.read_csv(i, index_col=[0]) for i in csv_combine]\n",
    "# hold = [com_lst[j].set_index('User_ID') for j in range(0,len(com_lst))]\n",
    "# This format is for ANOVA testing\n",
    "combine_all = pd.concat(lst)\n",
    "combine_all.to_csv(path+'combined_all'+'.csv')\n"
   ]
  },
  {
   "cell_type": "markdown",
   "metadata": {},
   "source": [
    "# Obtaining individual set data\n",
    "As it is non-unique, it returns an array of True & False argument instead of index\n",
    "set_1_loc = pd.Index(combine_all['Data Types']).get_loc('set_1')"
   ]
  },
  {
   "cell_type": "code",
   "execution_count": 993,
   "metadata": {},
   "outputs": [],
   "source": [
    "\n",
    "def set_loc(set_name):\n",
    "    set_loc = pd.Index(combine_all['Sets']).get_loc(set_name)\n",
    "    ls = []\n",
    "    for i in range(0,len(set_loc)):\n",
    "        if set_loc[i]:\n",
    "            ls.append(i)\n",
    "    set_frame = combine_all.iloc[ls]\n",
    "    return set_frame\n",
    "set_loc('set 1').to_csv(path+'set_1_combine'+'.csv')\n",
    "set_loc('set 2').to_csv(path+'set_2_combine'+'.csv')\n",
    "set_loc('set 3').to_csv(path+'set_3_combine'+'.csv')"
   ]
  },
  {
   "cell_type": "markdown",
   "metadata": {},
   "source": [
    "# If connection closed & only want plotting"
   ]
  },
  {
   "cell_type": "code",
   "execution_count": 977,
   "metadata": {},
   "outputs": [
    {
     "data": {
      "text/plain": [
       "'Human'"
      ]
     },
     "execution_count": 977,
     "metadata": {},
     "output_type": "execute_result"
    }
   ],
   "source": [
    "tst"
   ]
  },
  {
   "cell_type": "code",
   "execution_count": 1008,
   "metadata": {},
   "outputs": [],
   "source": [
    "\n",
    "# path_1 = 'C:/Users/evach/Documents/MSc/Diss_data/3_set_baseline/'+tst+'/combine/set_1_combine.csv'\n",
    "# path_2 = 'C:/Users/evach/Documents/MSc/Diss_data/3_set_baseline/'+tst+'/combine/set_2_combine.csv'\n",
    "# path_3 = 'C:/Users/evach/Documents/MSc/Diss_data/3_set_baseline/'+tst+'/combine/set_3_combine.csv'\n",
    "\n",
    "path_1 = path+'set_1_combine.csv'\n",
    "path_2 = path+'set_2_combine.csv'\n",
    "path_3 = path+'set_3_combine.csv'\n",
    "\n",
    "\n",
    "ls = [pd.read_csv(i, index_col=[0]) for i in [path_1,path_2,path_3]]\n",
    "# pd.concat(ls)\n",
    "\n",
    "# latency no.5"
   ]
  },
  {
   "cell_type": "code",
   "execution_count": 1009,
   "metadata": {},
   "outputs": [
    {
     "data": {
      "text/html": [
       "<div>\n",
       "<style scoped>\n",
       "    .dataframe tbody tr th:only-of-type {\n",
       "        vertical-align: middle;\n",
       "    }\n",
       "\n",
       "    .dataframe tbody tr th {\n",
       "        vertical-align: top;\n",
       "    }\n",
       "\n",
       "    .dataframe thead th {\n",
       "        text-align: right;\n",
       "    }\n",
       "</style>\n",
       "<table border=\"1\" class=\"dataframe\">\n",
       "  <thead>\n",
       "    <tr style=\"text-align: right;\">\n",
       "      <th></th>\n",
       "      <th>Sets</th>\n",
       "      <th>HR</th>\n",
       "      <th>EDA</th>\n",
       "      <th>TEMP</th>\n",
       "    </tr>\n",
       "  </thead>\n",
       "  <tbody>\n",
       "    <tr>\n",
       "      <th>0</th>\n",
       "      <td>set 1</td>\n",
       "      <td>1.845829</td>\n",
       "      <td>87.535206</td>\n",
       "      <td>55.468222</td>\n",
       "    </tr>\n",
       "    <tr>\n",
       "      <th>1</th>\n",
       "      <td>set 1</td>\n",
       "      <td>3.614221</td>\n",
       "      <td>89.303598</td>\n",
       "      <td>57.236614</td>\n",
       "    </tr>\n",
       "    <tr>\n",
       "      <th>2</th>\n",
       "      <td>set 1</td>\n",
       "      <td>3.160637</td>\n",
       "      <td>88.850014</td>\n",
       "      <td>56.783031</td>\n",
       "    </tr>\n",
       "    <tr>\n",
       "      <th>3</th>\n",
       "      <td>set 1</td>\n",
       "      <td>8.996707</td>\n",
       "      <td>94.686085</td>\n",
       "      <td>62.619101</td>\n",
       "    </tr>\n",
       "    <tr>\n",
       "      <th>0</th>\n",
       "      <td>set 1</td>\n",
       "      <td>2.130976</td>\n",
       "      <td>91.752542</td>\n",
       "      <td>57.757305</td>\n",
       "    </tr>\n",
       "    <tr>\n",
       "      <th>1</th>\n",
       "      <td>set 1</td>\n",
       "      <td>-6.756434</td>\n",
       "      <td>82.865132</td>\n",
       "      <td>48.869895</td>\n",
       "    </tr>\n",
       "    <tr>\n",
       "      <th>2</th>\n",
       "      <td>set 1</td>\n",
       "      <td>-25.188157</td>\n",
       "      <td>64.433409</td>\n",
       "      <td>30.438172</td>\n",
       "    </tr>\n",
       "    <tr>\n",
       "      <th>3</th>\n",
       "      <td>set 1</td>\n",
       "      <td>-12.066519</td>\n",
       "      <td>77.555047</td>\n",
       "      <td>43.559810</td>\n",
       "    </tr>\n",
       "    <tr>\n",
       "      <th>0</th>\n",
       "      <td>set 1</td>\n",
       "      <td>6.261082</td>\n",
       "      <td>76.567121</td>\n",
       "      <td>43.751377</td>\n",
       "    </tr>\n",
       "    <tr>\n",
       "      <th>1</th>\n",
       "      <td>set 1</td>\n",
       "      <td>4.151745</td>\n",
       "      <td>74.457784</td>\n",
       "      <td>41.642039</td>\n",
       "    </tr>\n",
       "    <tr>\n",
       "      <th>2</th>\n",
       "      <td>set 1</td>\n",
       "      <td>-0.027774</td>\n",
       "      <td>70.278265</td>\n",
       "      <td>37.462520</td>\n",
       "    </tr>\n",
       "    <tr>\n",
       "      <th>3</th>\n",
       "      <td>set 1</td>\n",
       "      <td>2.760196</td>\n",
       "      <td>73.066235</td>\n",
       "      <td>40.250491</td>\n",
       "    </tr>\n",
       "    <tr>\n",
       "      <th>0</th>\n",
       "      <td>set 1</td>\n",
       "      <td>0.739990</td>\n",
       "      <td>59.279245</td>\n",
       "      <td>27.818639</td>\n",
       "    </tr>\n",
       "    <tr>\n",
       "      <th>1</th>\n",
       "      <td>set 1</td>\n",
       "      <td>-0.724641</td>\n",
       "      <td>57.814613</td>\n",
       "      <td>26.354008</td>\n",
       "    </tr>\n",
       "    <tr>\n",
       "      <th>2</th>\n",
       "      <td>set 1</td>\n",
       "      <td>-0.676084</td>\n",
       "      <td>57.863170</td>\n",
       "      <td>26.402565</td>\n",
       "    </tr>\n",
       "    <tr>\n",
       "      <th>3</th>\n",
       "      <td>set 1</td>\n",
       "      <td>0.494009</td>\n",
       "      <td>59.033263</td>\n",
       "      <td>27.572657</td>\n",
       "    </tr>\n",
       "  </tbody>\n",
       "</table>\n",
       "</div>"
      ],
      "text/plain": [
       "    Sets         HR        EDA       TEMP\n",
       "0  set 1   1.845829  87.535206  55.468222\n",
       "1  set 1   3.614221  89.303598  57.236614\n",
       "2  set 1   3.160637  88.850014  56.783031\n",
       "3  set 1   8.996707  94.686085  62.619101\n",
       "0  set 1   2.130976  91.752542  57.757305\n",
       "1  set 1  -6.756434  82.865132  48.869895\n",
       "2  set 1 -25.188157  64.433409  30.438172\n",
       "3  set 1 -12.066519  77.555047  43.559810\n",
       "0  set 1   6.261082  76.567121  43.751377\n",
       "1  set 1   4.151745  74.457784  41.642039\n",
       "2  set 1  -0.027774  70.278265  37.462520\n",
       "3  set 1   2.760196  73.066235  40.250491\n",
       "0  set 1   0.739990  59.279245  27.818639\n",
       "1  set 1  -0.724641  57.814613  26.354008\n",
       "2  set 1  -0.676084  57.863170  26.402565\n",
       "3  set 1   0.494009  59.033263  27.572657"
      ]
     },
     "execution_count": 1009,
     "metadata": {},
     "output_type": "execute_result"
    }
   ],
   "source": [
    "# s1 = set_loc('set_1')\n",
    "# s2 = set_loc('set_2')\n",
    "# s3 = set_loc('set_3')\n",
    "\n",
    "s1,s2,s3 = ls[0],ls[1],ls[2]\n",
    "s1"
   ]
  },
  {
   "cell_type": "code",
   "execution_count": 1012,
   "metadata": {},
   "outputs": [],
   "source": [
    "\n",
    "def plt_sets(data_name, path = path, test =tst, outlier = True):\n",
    "    print(path)\n",
    "\n",
    "    s1_data = s1[data_name]\n",
    "    s2_data = s2[data_name]\n",
    "    s3_data = s3[data_name]\n",
    "    data = [s1_data,s2_data,s3_data]\n",
    "    flier = True\n",
    "\n",
    "    # x = ['0ms delay', '150ms delay', '300ms delay']\n",
    "    if test == 'Weighted' or 'Human':\n",
    "        x =['0 g', '0.5 KG', '1 KG']\n",
    "        x_l = 'Different levels of weights'\n",
    "    else: \n",
    "        x = ['0ms delay', '150ms delay', '300ms delay']\n",
    "        x_l = 'Different latency levels'\n",
    "\n",
    "    if data_name =='HR':\n",
    "        y_l = data_name+' variation (beats/minute)'\n",
    "    elif data_name =='EDA':\n",
    "        y_l = data_name+' variation (microsiemens -μS )'\n",
    "    elif data_name =='TEMP':\n",
    "        y_l = data_name+' variation (celsius - °C)'\n",
    "    \n",
    "    if outlier == True:\n",
    "        flier = True\n",
    "        inclusion = 'included'\n",
    "    else: \n",
    "        flier = False\n",
    "        inclusion = 'excluded'\n",
    "\n",
    "\n",
    "    plt.figure(figsize =(7, 5))\n",
    "    plt.title(data_name+' variation in 3 different '+test+' levels with outliers '+inclusion)\n",
    "    plt.boxplot(data, labels=x, showfliers= flier)\n",
    "    plt.xlabel(x_l)\n",
    "\n",
    "    plt.ylabel(y_l)\n",
    "    plt.savefig(path+data_name+' vaiation at different '+test+' level with outliers '+inclusion+'.jpg')\n",
    "\n",
    "    plt.show()\n",
    "\n"
   ]
  },
  {
   "cell_type": "code",
   "execution_count": 1013,
   "metadata": {},
   "outputs": [
    {
     "name": "stdout",
     "output_type": "stream",
     "text": [
      "C:/Users/evach/Documents/MSc/Diss_data/3_set_baseline/All/Latency_Biosignals_4/\n"
     ]
    },
    {
     "data": {
      "image/png": "[encoded data removed]",
      "text/plain": [
       "<Figure size 504x360 with 1 Axes>"
      ]
     },
     "metadata": {
      "needs_background": "light"
     },
     "output_type": "display_data"
    },
    {
     "name": "stdout",
     "output_type": "stream",
     "text": [
      "C:/Users/evach/Documents/MSc/Diss_data/3_set_baseline/All/Latency_Biosignals_4/\n"
     ]
    },
    {
     "data": {
      "image/png": "[encoded data removed]",
      "text/plain": [
       "<Figure size 504x360 with 1 Axes>"
      ]
     },
     "metadata": {
      "needs_background": "light"
     },
     "output_type": "display_data"
    },
    {
     "name": "stdout",
     "output_type": "stream",
     "text": [
      "C:/Users/evach/Documents/MSc/Diss_data/3_set_baseline/All/Latency_Biosignals_4/\n"
     ]
    },
    {
     "data": {
      "image/png": "[encoded data removed]",
      "text/plain": [
       "<Figure size 504x360 with 1 Axes>"
      ]
     },
     "metadata": {
      "needs_background": "light"
     },
     "output_type": "display_data"
    },
    {
     "name": "stdout",
     "output_type": "stream",
     "text": [
      "C:/Users/evach/Documents/MSc/Diss_data/3_set_baseline/All/Latency_Biosignals_4/\n"
     ]
    },
    {
     "data": {
      "image/png": "[encoded data removed]",
      "text/plain": [
       "<Figure size 504x360 with 1 Axes>"
      ]
     },
     "metadata": {
      "needs_background": "light"
     },
     "output_type": "display_data"
    },
    {
     "name": "stdout",
     "output_type": "stream",
     "text": [
      "C:/Users/evach/Documents/MSc/Diss_data/3_set_baseline/All/Latency_Biosignals_4/\n"
     ]
    },
    {
     "data": {
      "image/png": "[encoded data removed]",
      "text/plain": [
       "<Figure size 504x360 with 1 Axes>"
      ]
     },
     "metadata": {
      "needs_background": "light"
     },
     "output_type": "display_data"
    },
    {
     "name": "stdout",
     "output_type": "stream",
     "text": [
      "C:/Users/evach/Documents/MSc/Diss_data/3_set_baseline/All/Latency_Biosignals_4/\n"
     ]
    },
    {
     "data": {
      "image/png": "[encoded data removed]",
      "text/plain": [
       "<Figure size 504x360 with 1 Axes>"
      ]
     },
     "metadata": {
      "needs_background": "light"
     },
     "output_type": "display_data"
    }
   ],
   "source": [
    "plt_sets('HR', outlier= True)\n",
    "plt_sets('HR', outlier= False)\n",
    "\n",
    "plt_sets('EDA', outlier= True)\n",
    "plt_sets('EDA', outlier= False)\n",
    "\n",
    "plt_sets('TEMP', outlier= True)\n",
    "plt_sets('TEMP', outlier= False)"
   ]
  },
  {
   "cell_type": "markdown",
   "metadata": {},
   "source": [
    "# MAOVA"
   ]
  },
  {
   "cell_type": "code",
   "execution_count": null,
   "metadata": {},
   "outputs": [],
   "source": [
    "from statsmodels.multivariate.manova import MANOVA\n",
    "import numpy as np\n",
    "import pandas as pd\n",
    "l_bio = 'C:/Users/evach/Documents/MSc/Diss_data/3_set_baseline/All/Latency_Biosignals_4/combined_all.csv'\n",
    "l_nasa = 'C:/Users/evach/Documents/MSc/Diss_data/3_set_baseline/All/Latency_NASA_4/combined_all.csv'\n",
    "\n",
    "l_bio_6 = 'C:/Users/evach/Documents/MSc/Diss_data/3_set_baseline/All/Latency_Biosignals/combined_all.csv'\n",
    "l_nasa_6 = 'C:/Users/evach/Documents/MSc/Diss_data/3_set_baseline/All/Latency_MASA/combined_all.csv'\n",
    "\n",
    "w_bio = 'C:/Users/evach/Documents/MSc/Diss_data/3_set_baseline/All/Weighted_Biosignals/combined_all.csv'\n",
    "w_nasa ='C:/Users/evach/Documents/MSc/Diss_data/3_set_baseline/All/Weighted_NASA/combined_all.csv'\n",
    "\n",
    "human_bio = 'C:/Users/evach/Documents/MSc/Diss_data/3_set_baseline/All/Human_signal/combined_all.csv'\n",
    "human_nasa = 'C:/Users/evach/Documents/MSc/Diss_data/3_set_baseline/All/Human_NASA/combined_all.csv'\n",
    "\n",
    "\n",
    "l_bio = pd.read_csv(l_bio, index_col=[0])\n",
    "l_nasa = pd.read_csv(l_nasa, index_col=[0])\n",
    "\n",
    "       \n",
    "def manova_bio(d):\n",
    "    result = MANOVA.from_formula('HR + EDA + \\\n",
    "                            TEMP  ~ Sets', data=d)\n",
    "    print(result.mv_test())\n",
    "\n",
    "# def manova_nasa(d):\n",
    "#     result = MANOVA.from_formula('HR + EDA + \\\n",
    "#                             TEMP  ~ Sets', data=d)\n",
    "#     print(result.mv_test())\n",
    "\n",
    "# # # latency\n",
    "manova_bio(l_bio)\n",
    "# manova_nasa(l_nasa)\n",
    "\n",
    "# # weight\n",
    "# manova(w_bio)\n",
    "# manova(w_nasa)\n",
    "\n",
    "# # human\n",
    "# manova(human_bio)\n",
    "# manova(human_nasa)"
   ]
  },
  {
   "cell_type": "code",
   "execution_count": 51,
   "metadata": {},
   "outputs": [
    {
     "data": {
      "text/html": [
       "<div>\n",
       "<style scoped>\n",
       "    .dataframe tbody tr th:only-of-type {\n",
       "        vertical-align: middle;\n",
       "    }\n",
       "\n",
       "    .dataframe tbody tr th {\n",
       "        vertical-align: top;\n",
       "    }\n",
       "\n",
       "    .dataframe thead th {\n",
       "        text-align: right;\n",
       "    }\n",
       "</style>\n",
       "<table border=\"1\" class=\"dataframe\">\n",
       "  <thead>\n",
       "    <tr style=\"text-align: right;\">\n",
       "      <th></th>\n",
       "      <th>Test name</th>\n",
       "      <th>Sets</th>\n",
       "      <th>0</th>\n",
       "      <th>1</th>\n",
       "      <th>2</th>\n",
       "      <th>3</th>\n",
       "      <th>4</th>\n",
       "      <th>5</th>\n",
       "      <th>6</th>\n",
       "      <th>7</th>\n",
       "      <th>8</th>\n",
       "      <th>9</th>\n",
       "    </tr>\n",
       "  </thead>\n",
       "  <tbody>\n",
       "    <tr>\n",
       "      <th>0</th>\n",
       "      <td>Mental demand</td>\n",
       "      <td>set 1</td>\n",
       "      <td>30.0</td>\n",
       "      <td>10.0</td>\n",
       "      <td>40.0</td>\n",
       "      <td>20.0</td>\n",
       "      <td>30.0</td>\n",
       "      <td>40.0</td>\n",
       "      <td>35.0</td>\n",
       "      <td>20.0</td>\n",
       "      <td>25.0</td>\n",
       "      <td>30.0</td>\n",
       "    </tr>\n",
       "    <tr>\n",
       "      <th>1</th>\n",
       "      <td>Mental demand</td>\n",
       "      <td>set 2</td>\n",
       "      <td>65.0</td>\n",
       "      <td>70.0</td>\n",
       "      <td>60.0</td>\n",
       "      <td>50.0</td>\n",
       "      <td>40.0</td>\n",
       "      <td>30.0</td>\n",
       "      <td>20.0</td>\n",
       "      <td>10.0</td>\n",
       "      <td>35.0</td>\n",
       "      <td>15.0</td>\n",
       "    </tr>\n",
       "    <tr>\n",
       "      <th>2</th>\n",
       "      <td>Mental demand</td>\n",
       "      <td>set 3</td>\n",
       "      <td>70.0</td>\n",
       "      <td>80.0</td>\n",
       "      <td>70.0</td>\n",
       "      <td>80.0</td>\n",
       "      <td>60.0</td>\n",
       "      <td>90.0</td>\n",
       "      <td>70.0</td>\n",
       "      <td>70.0</td>\n",
       "      <td>50.0</td>\n",
       "      <td>60.0</td>\n",
       "    </tr>\n",
       "    <tr>\n",
       "      <th>3</th>\n",
       "      <td>Physical demand</td>\n",
       "      <td>set 1</td>\n",
       "      <td>20.0</td>\n",
       "      <td>10.0</td>\n",
       "      <td>50.0</td>\n",
       "      <td>20.0</td>\n",
       "      <td>30.0</td>\n",
       "      <td>45.0</td>\n",
       "      <td>35.0</td>\n",
       "      <td>20.0</td>\n",
       "      <td>30.0</td>\n",
       "      <td>30.0</td>\n",
       "    </tr>\n",
       "    <tr>\n",
       "      <th>4</th>\n",
       "      <td>Physical demand</td>\n",
       "      <td>set 2</td>\n",
       "      <td>60.0</td>\n",
       "      <td>70.0</td>\n",
       "      <td>60.0</td>\n",
       "      <td>50.0</td>\n",
       "      <td>60.0</td>\n",
       "      <td>30.0</td>\n",
       "      <td>20.0</td>\n",
       "      <td>15.0</td>\n",
       "      <td>40.0</td>\n",
       "      <td>15.0</td>\n",
       "    </tr>\n",
       "    <tr>\n",
       "      <th>...</th>\n",
       "      <td>...</td>\n",
       "      <td>...</td>\n",
       "      <td>...</td>\n",
       "      <td>...</td>\n",
       "      <td>...</td>\n",
       "      <td>...</td>\n",
       "      <td>...</td>\n",
       "      <td>...</td>\n",
       "      <td>...</td>\n",
       "      <td>...</td>\n",
       "      <td>...</td>\n",
       "      <td>...</td>\n",
       "    </tr>\n",
       "    <tr>\n",
       "      <th>19</th>\n",
       "      <td>Motivation</td>\n",
       "      <td>set 2</td>\n",
       "      <td>60.0</td>\n",
       "      <td>60.0</td>\n",
       "      <td>70.0</td>\n",
       "      <td>70.0</td>\n",
       "      <td>80.0</td>\n",
       "      <td>80.0</td>\n",
       "      <td>80.0</td>\n",
       "      <td>80.0</td>\n",
       "      <td>85.0</td>\n",
       "      <td>85.0</td>\n",
       "    </tr>\n",
       "    <tr>\n",
       "      <th>20</th>\n",
       "      <td>Motivation</td>\n",
       "      <td>set 3</td>\n",
       "      <td>70.0</td>\n",
       "      <td>75.0</td>\n",
       "      <td>80.0</td>\n",
       "      <td>85.0</td>\n",
       "      <td>80.0</td>\n",
       "      <td>80.0</td>\n",
       "      <td>70.0</td>\n",
       "      <td>80.0</td>\n",
       "      <td>40.0</td>\n",
       "      <td>50.0</td>\n",
       "    </tr>\n",
       "    <tr>\n",
       "      <th>21</th>\n",
       "      <td>bnb score</td>\n",
       "      <td>set 1</td>\n",
       "      <td>7.0</td>\n",
       "      <td>8.0</td>\n",
       "      <td>4.0</td>\n",
       "      <td>6.0</td>\n",
       "      <td>11.0</td>\n",
       "      <td>10.0</td>\n",
       "      <td>11.0</td>\n",
       "      <td>15.0</td>\n",
       "      <td>17.0</td>\n",
       "      <td>15.0</td>\n",
       "    </tr>\n",
       "    <tr>\n",
       "      <th>22</th>\n",
       "      <td>bnb score</td>\n",
       "      <td>set 2</td>\n",
       "      <td>3.0</td>\n",
       "      <td>5.0</td>\n",
       "      <td>4.0</td>\n",
       "      <td>3.0</td>\n",
       "      <td>3.0</td>\n",
       "      <td>6.0</td>\n",
       "      <td>2.0</td>\n",
       "      <td>4.0</td>\n",
       "      <td>4.0</td>\n",
       "      <td>5.0</td>\n",
       "    </tr>\n",
       "    <tr>\n",
       "      <th>23</th>\n",
       "      <td>bnb score</td>\n",
       "      <td>set 3</td>\n",
       "      <td>7.0</td>\n",
       "      <td>7.0</td>\n",
       "      <td>7.0</td>\n",
       "      <td>9.0</td>\n",
       "      <td>8.0</td>\n",
       "      <td>11.0</td>\n",
       "      <td>4.0</td>\n",
       "      <td>6.0</td>\n",
       "      <td>5.0</td>\n",
       "      <td>5.0</td>\n",
       "    </tr>\n",
       "  </tbody>\n",
       "</table>\n",
       "<p>192 rows × 12 columns</p>\n",
       "</div>"
      ],
      "text/plain": [
       "           Test name   Sets     0     1     2     3     4     5     6     7  \\\n",
       "0      Mental demand  set 1  30.0  10.0  40.0  20.0  30.0  40.0  35.0  20.0   \n",
       "1      Mental demand  set 2  65.0  70.0  60.0  50.0  40.0  30.0  20.0  10.0   \n",
       "2      Mental demand  set 3  70.0  80.0  70.0  80.0  60.0  90.0  70.0  70.0   \n",
       "3   Physical demand   set 1  20.0  10.0  50.0  20.0  30.0  45.0  35.0  20.0   \n",
       "4   Physical demand   set 2  60.0  70.0  60.0  50.0  60.0  30.0  20.0  15.0   \n",
       "..               ...    ...   ...   ...   ...   ...   ...   ...   ...   ...   \n",
       "19        Motivation  set 2  60.0  60.0  70.0  70.0  80.0  80.0  80.0  80.0   \n",
       "20        Motivation  set 3  70.0  75.0  80.0  85.0  80.0  80.0  70.0  80.0   \n",
       "21         bnb score  set 1   7.0   8.0   4.0   6.0  11.0  10.0  11.0  15.0   \n",
       "22         bnb score  set 2   3.0   5.0   4.0   3.0   3.0   6.0   2.0   4.0   \n",
       "23         bnb score  set 3   7.0   7.0   7.0   9.0   8.0  11.0   4.0   6.0   \n",
       "\n",
       "       8     9  \n",
       "0   25.0  30.0  \n",
       "1   35.0  15.0  \n",
       "2   50.0  60.0  \n",
       "3   30.0  30.0  \n",
       "4   40.0  15.0  \n",
       "..   ...   ...  \n",
       "19  85.0  85.0  \n",
       "20  40.0  50.0  \n",
       "21  17.0  15.0  \n",
       "22   4.0   5.0  \n",
       "23   5.0   5.0  \n",
       "\n",
       "[192 rows x 12 columns]"
      ]
     },
     "execution_count": 51,
     "metadata": {},
     "output_type": "execute_result"
    }
   ],
   "source": [
    "l_nasa"
   ]
  },
  {
   "cell_type": "code",
   "execution_count": 28,
   "metadata": {},
   "outputs": [
    {
     "ename": "LinAlgError",
     "evalue": "Singular matrix",
     "output_type": "error",
     "traceback": [
      "\u001b[1;31m---------------------------------------------------------------------------\u001b[0m",
      "\u001b[1;31mLinAlgError\u001b[0m                               Traceback (most recent call last)",
      "\u001b[1;32m~\\AppData\\Local\\Temp\\ipykernel_5992\\1648840746.py\u001b[0m in \u001b[0;36m<cell line: 6>\u001b[1;34m()\u001b[0m\n\u001b[0;32m      4\u001b[0m     \u001b[0mprint\u001b[0m\u001b[1;33m(\u001b[0m\u001b[0mresult\u001b[0m\u001b[1;33m.\u001b[0m\u001b[0mmv_test\u001b[0m\u001b[1;33m(\u001b[0m\u001b[1;33m)\u001b[0m\u001b[1;33m)\u001b[0m\u001b[1;33m\u001b[0m\u001b[1;33m\u001b[0m\u001b[0m\n\u001b[0;32m      5\u001b[0m \u001b[1;33m\u001b[0m\u001b[0m\n\u001b[1;32m----> 6\u001b[1;33m \u001b[0mmanova_nasa\u001b[0m\u001b[1;33m(\u001b[0m\u001b[0ma\u001b[0m\u001b[1;33m)\u001b[0m\u001b[1;33m\u001b[0m\u001b[1;33m\u001b[0m\u001b[0m\n\u001b[0m",
      "\u001b[1;32m~\\AppData\\Local\\Temp\\ipykernel_5992\\1648840746.py\u001b[0m in \u001b[0;36mmanova_nasa\u001b[1;34m(d)\u001b[0m\n\u001b[0;32m      2\u001b[0m     result = MANOVA.from_formula('Performance + Frustration + Motivation\t \\\n\u001b[0;32m      3\u001b[0m                                    ~ Sets', data=d)\n\u001b[1;32m----> 4\u001b[1;33m     \u001b[0mprint\u001b[0m\u001b[1;33m(\u001b[0m\u001b[0mresult\u001b[0m\u001b[1;33m.\u001b[0m\u001b[0mmv_test\u001b[0m\u001b[1;33m(\u001b[0m\u001b[1;33m)\u001b[0m\u001b[1;33m)\u001b[0m\u001b[1;33m\u001b[0m\u001b[1;33m\u001b[0m\u001b[0m\n\u001b[0m\u001b[0;32m      5\u001b[0m \u001b[1;33m\u001b[0m\u001b[0m\n\u001b[0;32m      6\u001b[0m \u001b[0mmanova_nasa\u001b[0m\u001b[1;33m(\u001b[0m\u001b[0ma\u001b[0m\u001b[1;33m)\u001b[0m\u001b[1;33m\u001b[0m\u001b[1;33m\u001b[0m\u001b[0m\n",
      "\u001b[1;32m~\\AppData\\Local\\Packages\\PythonSoftwareFoundation.Python.3.10_qbz5n2kfra8p0\\LocalCache\\local-packages\\Python310\\site-packages\\statsmodels\\multivariate\\manova.py\u001b[0m in \u001b[0;36mmv_test\u001b[1;34m(self, hypotheses)\u001b[0m\n\u001b[0;32m    115\u001b[0m                     \u001b[0mhypotheses\u001b[0m\u001b[1;33m.\u001b[0m\u001b[0mappend\u001b[0m\u001b[1;33m(\u001b[0m\u001b[1;33m[\u001b[0m\u001b[0mname\u001b[0m\u001b[1;33m,\u001b[0m \u001b[0mL\u001b[0m\u001b[1;33m,\u001b[0m \u001b[1;32mNone\u001b[0m\u001b[1;33m]\u001b[0m\u001b[1;33m)\u001b[0m\u001b[1;33m\u001b[0m\u001b[1;33m\u001b[0m\u001b[0m\n\u001b[0;32m    116\u001b[0m \u001b[1;33m\u001b[0m\u001b[0m\n\u001b[1;32m--> 117\u001b[1;33m         results = _multivariate_ols_test(hypotheses, self._fittedmod,\n\u001b[0m\u001b[0;32m    118\u001b[0m                                          self.exog_names, self.endog_names)\n\u001b[0;32m    119\u001b[0m \u001b[1;33m\u001b[0m\u001b[0m\n",
      "\u001b[1;32m~\\AppData\\Local\\Packages\\PythonSoftwareFoundation.Python.3.10_qbz5n2kfra8p0\\LocalCache\\local-packages\\Python310\\site-packages\\statsmodels\\multivariate\\multivariate_ols.py\u001b[0m in \u001b[0;36m_multivariate_ols_test\u001b[1;34m(hypotheses, fit_results, exog_names, endog_names)\u001b[0m\n\u001b[0;32m    261\u001b[0m         \u001b[1;32mreturn\u001b[0m \u001b[0mE\u001b[0m\u001b[1;33m,\u001b[0m \u001b[0mH\u001b[0m\u001b[1;33m,\u001b[0m \u001b[0mq\u001b[0m\u001b[1;33m,\u001b[0m \u001b[0mdf_resid\u001b[0m\u001b[1;33m\u001b[0m\u001b[1;33m\u001b[0m\u001b[0m\n\u001b[0;32m    262\u001b[0m \u001b[1;33m\u001b[0m\u001b[0m\n\u001b[1;32m--> 263\u001b[1;33m     \u001b[1;32mreturn\u001b[0m \u001b[0m_multivariate_test\u001b[0m\u001b[1;33m(\u001b[0m\u001b[0mhypotheses\u001b[0m\u001b[1;33m,\u001b[0m \u001b[0mexog_names\u001b[0m\u001b[1;33m,\u001b[0m \u001b[0mendog_names\u001b[0m\u001b[1;33m,\u001b[0m \u001b[0mfn\u001b[0m\u001b[1;33m)\u001b[0m\u001b[1;33m\u001b[0m\u001b[1;33m\u001b[0m\u001b[0m\n\u001b[0m\u001b[0;32m    264\u001b[0m \u001b[1;33m\u001b[0m\u001b[0m\n\u001b[0;32m    265\u001b[0m \u001b[1;33m\u001b[0m\u001b[0m\n",
      "\u001b[1;32m~\\AppData\\Local\\Packages\\PythonSoftwareFoundation.Python.3.10_qbz5n2kfra8p0\\LocalCache\\local-packages\\Python310\\site-packages\\statsmodels\\multivariate\\multivariate_ols.py\u001b[0m in \u001b[0;36m_multivariate_test\u001b[1;34m(hypotheses, exog_names, endog_names, fn)\u001b[0m\n\u001b[0;32m    357\u001b[0m \u001b[1;33m\u001b[0m\u001b[0m\n\u001b[0;32m    358\u001b[0m         \u001b[1;31m# eigenvalues of inv(E + H)H\u001b[0m\u001b[1;33m\u001b[0m\u001b[1;33m\u001b[0m\u001b[0m\n\u001b[1;32m--> 359\u001b[1;33m         \u001b[0meigv2\u001b[0m \u001b[1;33m=\u001b[0m \u001b[0mnp\u001b[0m\u001b[1;33m.\u001b[0m\u001b[0msort\u001b[0m\u001b[1;33m(\u001b[0m\u001b[0meigvals\u001b[0m\u001b[1;33m(\u001b[0m\u001b[0msolve\u001b[0m\u001b[1;33m(\u001b[0m\u001b[0mEH\u001b[0m\u001b[1;33m,\u001b[0m \u001b[0mH\u001b[0m\u001b[1;33m)\u001b[0m\u001b[1;33m)\u001b[0m\u001b[1;33m)\u001b[0m\u001b[1;33m\u001b[0m\u001b[1;33m\u001b[0m\u001b[0m\n\u001b[0m\u001b[0;32m    360\u001b[0m         \u001b[0mstat_table\u001b[0m \u001b[1;33m=\u001b[0m \u001b[0mmultivariate_stats\u001b[0m\u001b[1;33m(\u001b[0m\u001b[0meigv2\u001b[0m\u001b[1;33m,\u001b[0m \u001b[0mp\u001b[0m\u001b[1;33m,\u001b[0m \u001b[0mq\u001b[0m\u001b[1;33m,\u001b[0m \u001b[0mdf_resid\u001b[0m\u001b[1;33m)\u001b[0m\u001b[1;33m\u001b[0m\u001b[1;33m\u001b[0m\u001b[0m\n\u001b[0;32m    361\u001b[0m \u001b[1;33m\u001b[0m\u001b[0m\n",
      "\u001b[1;32m~\\AppData\\Local\\Packages\\PythonSoftwareFoundation.Python.3.10_qbz5n2kfra8p0\\LocalCache\\local-packages\\Python310\\site-packages\\numpy\\core\\overrides.py\u001b[0m in \u001b[0;36msolve\u001b[1;34m(*args, **kwargs)\u001b[0m\n",
      "\u001b[1;32m~\\AppData\\Local\\Packages\\PythonSoftwareFoundation.Python.3.10_qbz5n2kfra8p0\\LocalCache\\local-packages\\Python310\\site-packages\\numpy\\linalg\\linalg.py\u001b[0m in \u001b[0;36msolve\u001b[1;34m(a, b)\u001b[0m\n\u001b[0;32m    398\u001b[0m     \u001b[0msignature\u001b[0m \u001b[1;33m=\u001b[0m \u001b[1;34m'DD->D'\u001b[0m \u001b[1;32mif\u001b[0m \u001b[0misComplexType\u001b[0m\u001b[1;33m(\u001b[0m\u001b[0mt\u001b[0m\u001b[1;33m)\u001b[0m \u001b[1;32melse\u001b[0m \u001b[1;34m'dd->d'\u001b[0m\u001b[1;33m\u001b[0m\u001b[1;33m\u001b[0m\u001b[0m\n\u001b[0;32m    399\u001b[0m     \u001b[0mextobj\u001b[0m \u001b[1;33m=\u001b[0m \u001b[0mget_linalg_error_extobj\u001b[0m\u001b[1;33m(\u001b[0m\u001b[0m_raise_linalgerror_singular\u001b[0m\u001b[1;33m)\u001b[0m\u001b[1;33m\u001b[0m\u001b[1;33m\u001b[0m\u001b[0m\n\u001b[1;32m--> 400\u001b[1;33m     \u001b[0mr\u001b[0m \u001b[1;33m=\u001b[0m \u001b[0mgufunc\u001b[0m\u001b[1;33m(\u001b[0m\u001b[0ma\u001b[0m\u001b[1;33m,\u001b[0m \u001b[0mb\u001b[0m\u001b[1;33m,\u001b[0m \u001b[0msignature\u001b[0m\u001b[1;33m=\u001b[0m\u001b[0msignature\u001b[0m\u001b[1;33m,\u001b[0m \u001b[0mextobj\u001b[0m\u001b[1;33m=\u001b[0m\u001b[0mextobj\u001b[0m\u001b[1;33m)\u001b[0m\u001b[1;33m\u001b[0m\u001b[1;33m\u001b[0m\u001b[0m\n\u001b[0m\u001b[0;32m    401\u001b[0m \u001b[1;33m\u001b[0m\u001b[0m\n\u001b[0;32m    402\u001b[0m     \u001b[1;32mreturn\u001b[0m \u001b[0mwrap\u001b[0m\u001b[1;33m(\u001b[0m\u001b[0mr\u001b[0m\u001b[1;33m.\u001b[0m\u001b[0mastype\u001b[0m\u001b[1;33m(\u001b[0m\u001b[0mresult_t\u001b[0m\u001b[1;33m,\u001b[0m \u001b[0mcopy\u001b[0m\u001b[1;33m=\u001b[0m\u001b[1;32mFalse\u001b[0m\u001b[1;33m)\u001b[0m\u001b[1;33m)\u001b[0m\u001b[1;33m\u001b[0m\u001b[1;33m\u001b[0m\u001b[0m\n",
      "\u001b[1;32m~\\AppData\\Local\\Packages\\PythonSoftwareFoundation.Python.3.10_qbz5n2kfra8p0\\LocalCache\\local-packages\\Python310\\site-packages\\numpy\\linalg\\linalg.py\u001b[0m in \u001b[0;36m_raise_linalgerror_singular\u001b[1;34m(err, flag)\u001b[0m\n\u001b[0;32m     87\u001b[0m \u001b[1;33m\u001b[0m\u001b[0m\n\u001b[0;32m     88\u001b[0m \u001b[1;32mdef\u001b[0m \u001b[0m_raise_linalgerror_singular\u001b[0m\u001b[1;33m(\u001b[0m\u001b[0merr\u001b[0m\u001b[1;33m,\u001b[0m \u001b[0mflag\u001b[0m\u001b[1;33m)\u001b[0m\u001b[1;33m:\u001b[0m\u001b[1;33m\u001b[0m\u001b[1;33m\u001b[0m\u001b[0m\n\u001b[1;32m---> 89\u001b[1;33m     \u001b[1;32mraise\u001b[0m \u001b[0mLinAlgError\u001b[0m\u001b[1;33m(\u001b[0m\u001b[1;34m\"Singular matrix\"\u001b[0m\u001b[1;33m)\u001b[0m\u001b[1;33m\u001b[0m\u001b[1;33m\u001b[0m\u001b[0m\n\u001b[0m\u001b[0;32m     90\u001b[0m \u001b[1;33m\u001b[0m\u001b[0m\n\u001b[0;32m     91\u001b[0m \u001b[1;32mdef\u001b[0m \u001b[0m_raise_linalgerror_nonposdef\u001b[0m\u001b[1;33m(\u001b[0m\u001b[0merr\u001b[0m\u001b[1;33m,\u001b[0m \u001b[0mflag\u001b[0m\u001b[1;33m)\u001b[0m\u001b[1;33m:\u001b[0m\u001b[1;33m\u001b[0m\u001b[1;33m\u001b[0m\u001b[0m\n",
      "\u001b[1;31mLinAlgError\u001b[0m: Singular matrix"
     ]
    }
   ],
   "source": [
    "\n",
    "def manova_nasa(d):\n",
    "    result = MANOVA.from_formula('Performance + Frustration + Motivation\t \\\n",
    "                                   ~ Sets', data=d)\n",
    "    print(result.mv_test())\n",
    "\n",
    "manova_nasa(a)"
   ]
  },
  {
   "cell_type": "code",
   "execution_count": 20,
   "metadata": {},
   "outputs": [
    {
     "ename": "NameError",
     "evalue": "name 'l_nasa' is not defined",
     "output_type": "error",
     "traceback": [
      "\u001b[1;31m---------------------------------------------------------------------------\u001b[0m",
      "\u001b[1;31mNameError\u001b[0m                                 Traceback (most recent call last)",
      "\u001b[1;32m~\\AppData\\Local\\Temp\\ipykernel_11968\\2883814136.py\u001b[0m in \u001b[0;36m<cell line: 1>\u001b[1;34m()\u001b[0m\n\u001b[1;32m----> 1\u001b[1;33m \u001b[0mtst\u001b[0m \u001b[1;33m=\u001b[0m \u001b[1;33m[\u001b[0m\u001b[0ml_bio\u001b[0m\u001b[1;33m,\u001b[0m\u001b[0ml_nasa\u001b[0m\u001b[1;33m,\u001b[0m\u001b[0ml_bio_6\u001b[0m\u001b[1;33m]\u001b[0m\u001b[1;33m\u001b[0m\u001b[1;33m\u001b[0m\u001b[0m\n\u001b[0m\u001b[0;32m      2\u001b[0m \u001b[0mtst\u001b[0m\u001b[1;33m\u001b[0m\u001b[1;33m\u001b[0m\u001b[0m\n",
      "\u001b[1;31mNameError\u001b[0m: name 'l_nasa' is not defined"
     ]
    }
   ],
   "source": [
    "tst = [l_bio,l_nasa,l_bio_6]\n",
    "tst"
   ]
  },
  {
   "cell_type": "code",
   "execution_count": 9,
   "metadata": {},
   "outputs": [
    {
     "name": "stdout",
     "output_type": "stream",
     "text": [
      "                   Multivariate linear model\n",
      "================================================================\n",
      "                                                                \n",
      "----------------------------------------------------------------\n",
      "       Intercept         Value   Num DF  Den DF  F Value  Pr > F\n",
      "----------------------------------------------------------------\n",
      "          Wilks' lambda   0.0051 3.0000 43.0000 2770.8349 0.0000\n",
      "         Pillai's trace   0.9949 3.0000 43.0000 2770.8349 0.0000\n",
      " Hotelling-Lawley trace 193.3141 3.0000 43.0000 2770.8349 0.0000\n",
      "    Roy's greatest root 193.3141 3.0000 43.0000 2770.8349 0.0000\n",
      "----------------------------------------------------------------\n",
      "                                                                \n",
      "----------------------------------------------------------------\n",
      "              Sets          Value  Num DF  Den DF F Value Pr > F\n",
      "----------------------------------------------------------------\n",
      "              Wilks' lambda 0.7326 6.0000 86.0000  2.4131 0.0333\n",
      "             Pillai's trace 0.2762 6.0000 88.0000  2.3502 0.0375\n",
      "     Hotelling-Lawley trace 0.3531 6.0000 55.5906  2.5026 0.0325\n",
      "        Roy's greatest root 0.3150 3.0000 44.0000  4.6198 0.0068\n",
      "================================================================\n",
      "\n",
      "====================================================================================================================================\n",
      "                    Multivariate linear model\n",
      "==================================================================\n",
      "                                                                  \n",
      "------------------------------------------------------------------\n",
      "       Intercept         Value   Num DF  Den DF   F Value   Pr > F\n",
      "------------------------------------------------------------------\n",
      "          Wilks' lambda   0.0036 3.0000 211.0000 19670.6219 0.0000\n",
      "         Pillai's trace   0.9964 3.0000 211.0000 19670.6219 0.0000\n",
      " Hotelling-Lawley trace 279.6771 3.0000 211.0000 19670.6219 0.0000\n",
      "    Roy's greatest root 279.6771 3.0000 211.0000 19670.6219 0.0000\n",
      "------------------------------------------------------------------\n",
      "                                                                  \n",
      "-------------------------------------------------------------------\n",
      "           Sets           Value   Num DF   Den DF   F Value  Pr > F\n",
      "-------------------------------------------------------------------\n",
      "           Wilks' lambda  0.8820  6.0000  422.0000   4.5590  0.0002\n",
      "          Pillai's trace  0.1206  6.0000  424.0000   4.5338  0.0002\n",
      "  Hotelling-Lawley trace  0.1310  6.0000  279.5626   4.5948  0.0002\n",
      "     Roy's greatest root  0.1031  3.0000  212.0000   7.2823  0.0001\n",
      "==================================================================\n",
      "\n"
     ]
    }
   ],
   "source": [
    "print(latency_bio_maov.mv_test())\n",
    "\n"
   ]
  },
  {
   "cell_type": "code",
   "execution_count": null,
   "metadata": {},
   "outputs": [],
   "source": []
  }
 ],
 "metadata": {
  "kernelspec": {
   "display_name": "Python 3.10.6 64-bit (microsoft store)",
   "language": "python",
   "name": "python3"
  },
  "language_info": {
   "codemirror_mode": {
    "name": "ipython",
    "version": 3
   },
   "file_extension": ".py",
   "mimetype": "text/x-python",
   "name": "python",
   "nbconvert_exporter": "python",
   "pygments_lexer": "ipython3",
   "version": "3.10.8"
  },
  "orig_nbformat": 4,
  "vscode": {
   "interpreter": {
    "hash": "0241e48769f7305f475736cfd22aa0e9a293847bdf53b195aaa1a7b58cbf9c14"
   }
  }
 },
 "nbformat": 4,
 "nbformat_minor": 2
}
