{
 "cells": [
  {
   "cell_type": "markdown",
   "metadata": {},
   "source": []
  },
  {
   "cell_type": "code",
   "execution_count": 35,
   "metadata": {},
   "outputs": [],
   "source": [
    "import numpy as np\n",
    "import pandas as pd\n",
    "from scipy.stats import f_oneway\n",
    "import glob\n",
    "import scipy.stats as stats\n",
    "import pingouin as pg\n",
    "from itertools import chain"
   ]
  },
  {
   "cell_type": "markdown",
   "metadata": {},
   "source": [
    "# Biosignals"
   ]
  },
  {
   "cell_type": "code",
   "execution_count": 252,
   "metadata": {},
   "outputs": [],
   "source": [
    "# path = 'C:/Users/evach/Documents/MSc/Diss_data/3_set_baseline/Final_all/Human/Biosignals/'\n",
    "# path = 'C:/Users/evach/Documents/MSc/Diss_data/3_set_baseline/Final_all/Latency/Biosignals/'\n",
    "path = 'C:/Users/evach/Documents/MSc/Diss_data/3_set_baseline/Final_all/Weighted/Biosignals/'\n",
    "\n",
    "path_1 = path+'/set_1_combine.csv'\n",
    "path_2 = path+'/set_2_combine.csv'\n",
    "path_3 = path+'/set_3_combine.csv'\n"
   ]
  },
  {
   "cell_type": "markdown",
   "metadata": {},
   "source": [
    "## Reading files into a list"
   ]
  },
  {
   "cell_type": "code",
   "execution_count": 253,
   "metadata": {},
   "outputs": [],
   "source": [
    "\n",
    "ls = [pd.read_csv(i, index_col=[0]) for i in [path_1, path_2, path_3]]\n",
    "\n",
    "hr1 = np.asarray(ls[0]['HR'])\n",
    "hr2 = np.asarray(ls[1]['HR'])\n",
    "hr3 = np.asarray(ls[2]['HR'])\n",
    "\n",
    "eda1 = ls[0]['EDA']\n",
    "eda2 = ls[1]['EDA']\n",
    "eda3 = ls[2]['EDA']\n",
    "\n",
    "t1 = ls[0]['TEMP']\n",
    "t2 = ls[1]['TEMP']\n",
    "t3 = ls[2]['TEMP']"
   ]
  },
  {
   "cell_type": "code",
   "execution_count": 254,
   "metadata": {},
   "outputs": [
    {
     "data": {
      "text/plain": [
       "F_onewayResult(statistic=3.7413228142450174, pvalue=0.026607712472360167)"
      ]
     },
     "execution_count": 254,
     "metadata": {},
     "output_type": "execute_result"
    }
   ],
   "source": [
    "f_oneway(t1,t2,t3)\n",
    "f_oneway(t1,t2,t3)\n",
    "f_oneway(eda1,eda2,eda3)"
   ]
  },
  {
   "cell_type": "markdown",
   "metadata": {},
   "source": [
    "## Bartlett test\n",
    " testing to determine whether equal variance is true, if true then use classic\n",
    " ANOVA, otherwise use Welch's ANOVA"
   ]
  },
  {
   "cell_type": "code",
   "execution_count": 25,
   "metadata": {},
   "outputs": [
    {
     "name": "stdout",
     "output_type": "stream",
     "text": [
      "BartlettResult(statistic=32.43631678494651, pvalue=9.047806489464891e-08)\n",
      "BartlettResult(statistic=242.9602020430196, pvalue=1.7452693641906554e-53)\n",
      "BartlettResult(statistic=16.53730858864339, pvalue=0.00025643013866722417)\n"
     ]
    }
   ],
   "source": [
    "print(stats.bartlett(hr1,hr2,hr3))\n",
    "print(stats.bartlett(eda1,eda2,eda3))\n",
    "print(stats.bartlett(t1,t2,t3))"
   ]
  },
  {
   "cell_type": "markdown",
   "metadata": {},
   "source": [
    "## ANOVA"
   ]
  },
  {
   "cell_type": "markdown",
   "metadata": {},
   "source": [
    "## NEED TO MAKE SURE change the 'REPEAT' for different testing"
   ]
  },
  {
   "cell_type": "code",
   "execution_count": 26,
   "metadata": {},
   "outputs": [
    {
     "data": {
      "text/plain": [
       "60"
      ]
     },
     "execution_count": 26,
     "metadata": {},
     "output_type": "execute_result"
    }
   ],
   "source": [
    "len(hr1)"
   ]
  },
  {
   "cell_type": "markdown",
   "metadata": {},
   "source": [
    "## REMEMBER TO CHANGE THE REPEAT & weights/latency !!!!!\n",
    "\n",
    "latency = 60\n",
    "human = 40\n",
    "weighted = 40"
   ]
  },
  {
   "cell_type": "code",
   "execution_count": 255,
   "metadata": {},
   "outputs": [],
   "source": [
    "def anova(repeats = 60, tst = 'Latency', path = path+'/stats/'):\n",
    "    hr = list(chain(*[hr1,hr2,hr3]))\n",
    "    eda = list(chain(*[eda1,eda2,eda3]))\n",
    "    temp = list(chain(*[t1,t2,t3]))\n",
    "\n",
    "    if tst == 'Latency':\n",
    "        level_name = ['0 ms', '150 ms', '300 ms']\n",
    "    else:\n",
    "        level_name = ['0 KG', '0.5 KG', '1 KG']\n",
    "\n",
    "\n",
    "    data = [hr, eda, temp]\n",
    "    name = ['HR','EDA','TEMP']\n",
    "\n",
    "    hold = [[] for i in range(0,len(data))]\n",
    "    result = [[] for i in range(0,len(data))]\n",
    "    pair_result = [[] for i in range(0,len(data))]\n",
    "\n",
    "    for i in range( 0, len(data)):\n",
    "        hold[i] = pd.DataFrame({'score': data[i],\n",
    "                    'group': np.repeat(level_name, repeats)}) \n",
    "        result[i] = pg.welch_anova(dv='score', between='group', data=hold[i])\n",
    "        pair_result[i] = pg.pairwise_gameshowell(dv='score', between='group', data=hold[i])\n",
    "        \n",
    "        # result[i].to_csv(path+name[i]+' welch anova'+'.csv')\n",
    "        # pair_result[i].to_csv(path +name[i] + ' pair wise' +'.csv')\n",
    "    return result, pair_result\n"
   ]
  },
  {
   "cell_type": "code",
   "execution_count": 237,
   "metadata": {},
   "outputs": [],
   "source": [
    "hr = list(chain(*[hr1,hr2,hr3]))\n",
    "eda = list(chain(*[eda1,eda2,eda3]))\n",
    "temp = list(chain(*[t1,t2,t3]))\n",
    "data = [hr, eda, temp]"
   ]
  },
  {
   "cell_type": "code",
   "execution_count": 257,
   "metadata": {},
   "outputs": [
    {
     "ename": "ValueError",
     "evalue": "All arrays must be of the same length",
     "output_type": "error",
     "traceback": [
      "\u001b[1;31m---------------------------------------------------------------------------\u001b[0m",
      "\u001b[1;31mValueError\u001b[0m                                Traceback (most recent call last)",
      "\u001b[1;32m~\\AppData\\Local\\Temp\\ipykernel_33172\\2634671048.py\u001b[0m in \u001b[0;36m<cell line: 1>\u001b[1;34m()\u001b[0m\n\u001b[1;32m----> 1\u001b[1;33m \u001b[0mr\u001b[0m \u001b[1;33m=\u001b[0m \u001b[0manova\u001b[0m\u001b[1;33m(\u001b[0m\u001b[0mtst\u001b[0m \u001b[1;33m=\u001b[0m\u001b[1;34m'Weights'\u001b[0m\u001b[1;33m)\u001b[0m\u001b[1;33m\u001b[0m\u001b[1;33m\u001b[0m\u001b[0m\n\u001b[0m",
      "\u001b[1;32m~\\AppData\\Local\\Temp\\ipykernel_33172\\3439601388.py\u001b[0m in \u001b[0;36manova\u001b[1;34m(repeats, tst, path)\u001b[0m\n\u001b[0;32m     18\u001b[0m \u001b[1;33m\u001b[0m\u001b[0m\n\u001b[0;32m     19\u001b[0m     \u001b[1;32mfor\u001b[0m \u001b[0mi\u001b[0m \u001b[1;32min\u001b[0m \u001b[0mrange\u001b[0m\u001b[1;33m(\u001b[0m \u001b[1;36m0\u001b[0m\u001b[1;33m,\u001b[0m \u001b[0mlen\u001b[0m\u001b[1;33m(\u001b[0m\u001b[0mdata\u001b[0m\u001b[1;33m)\u001b[0m\u001b[1;33m)\u001b[0m\u001b[1;33m:\u001b[0m\u001b[1;33m\u001b[0m\u001b[1;33m\u001b[0m\u001b[0m\n\u001b[1;32m---> 20\u001b[1;33m         hold[i] = pd.DataFrame({'score': data[i],\n\u001b[0m\u001b[0;32m     21\u001b[0m                     'group': np.repeat(level_name, repeats)}) \n\u001b[0;32m     22\u001b[0m         \u001b[0mresult\u001b[0m\u001b[1;33m[\u001b[0m\u001b[0mi\u001b[0m\u001b[1;33m]\u001b[0m \u001b[1;33m=\u001b[0m \u001b[0mpg\u001b[0m\u001b[1;33m.\u001b[0m\u001b[0mwelch_anova\u001b[0m\u001b[1;33m(\u001b[0m\u001b[0mdv\u001b[0m\u001b[1;33m=\u001b[0m\u001b[1;34m'score'\u001b[0m\u001b[1;33m,\u001b[0m \u001b[0mbetween\u001b[0m\u001b[1;33m=\u001b[0m\u001b[1;34m'group'\u001b[0m\u001b[1;33m,\u001b[0m \u001b[0mdata\u001b[0m\u001b[1;33m=\u001b[0m\u001b[0mhold\u001b[0m\u001b[1;33m[\u001b[0m\u001b[0mi\u001b[0m\u001b[1;33m]\u001b[0m\u001b[1;33m)\u001b[0m\u001b[1;33m\u001b[0m\u001b[1;33m\u001b[0m\u001b[0m\n",
      "\u001b[1;32m~\\AppData\\Local\\Packages\\PythonSoftwareFoundation.Python.3.10_qbz5n2kfra8p0\\LocalCache\\local-packages\\Python310\\site-packages\\pandas\\core\\frame.py\u001b[0m in \u001b[0;36m__init__\u001b[1;34m(self, data, index, columns, dtype, copy)\u001b[0m\n\u001b[0;32m    634\u001b[0m         \u001b[1;32melif\u001b[0m \u001b[0misinstance\u001b[0m\u001b[1;33m(\u001b[0m\u001b[0mdata\u001b[0m\u001b[1;33m,\u001b[0m \u001b[0mdict\u001b[0m\u001b[1;33m)\u001b[0m\u001b[1;33m:\u001b[0m\u001b[1;33m\u001b[0m\u001b[1;33m\u001b[0m\u001b[0m\n\u001b[0;32m    635\u001b[0m             \u001b[1;31m# GH#38939 de facto copy defaults to False only in non-dict cases\u001b[0m\u001b[1;33m\u001b[0m\u001b[1;33m\u001b[0m\u001b[0m\n\u001b[1;32m--> 636\u001b[1;33m             \u001b[0mmgr\u001b[0m \u001b[1;33m=\u001b[0m \u001b[0mdict_to_mgr\u001b[0m\u001b[1;33m(\u001b[0m\u001b[0mdata\u001b[0m\u001b[1;33m,\u001b[0m \u001b[0mindex\u001b[0m\u001b[1;33m,\u001b[0m \u001b[0mcolumns\u001b[0m\u001b[1;33m,\u001b[0m \u001b[0mdtype\u001b[0m\u001b[1;33m=\u001b[0m\u001b[0mdtype\u001b[0m\u001b[1;33m,\u001b[0m \u001b[0mcopy\u001b[0m\u001b[1;33m=\u001b[0m\u001b[0mcopy\u001b[0m\u001b[1;33m,\u001b[0m \u001b[0mtyp\u001b[0m\u001b[1;33m=\u001b[0m\u001b[0mmanager\u001b[0m\u001b[1;33m)\u001b[0m\u001b[1;33m\u001b[0m\u001b[1;33m\u001b[0m\u001b[0m\n\u001b[0m\u001b[0;32m    637\u001b[0m         \u001b[1;32melif\u001b[0m \u001b[0misinstance\u001b[0m\u001b[1;33m(\u001b[0m\u001b[0mdata\u001b[0m\u001b[1;33m,\u001b[0m \u001b[0mma\u001b[0m\u001b[1;33m.\u001b[0m\u001b[0mMaskedArray\u001b[0m\u001b[1;33m)\u001b[0m\u001b[1;33m:\u001b[0m\u001b[1;33m\u001b[0m\u001b[1;33m\u001b[0m\u001b[0m\n\u001b[0;32m    638\u001b[0m             \u001b[1;32mimport\u001b[0m \u001b[0mnumpy\u001b[0m\u001b[1;33m.\u001b[0m\u001b[0mma\u001b[0m\u001b[1;33m.\u001b[0m\u001b[0mmrecords\u001b[0m \u001b[1;32mas\u001b[0m \u001b[0mmrecords\u001b[0m\u001b[1;33m\u001b[0m\u001b[1;33m\u001b[0m\u001b[0m\n",
      "\u001b[1;32m~\\AppData\\Local\\Packages\\PythonSoftwareFoundation.Python.3.10_qbz5n2kfra8p0\\LocalCache\\local-packages\\Python310\\site-packages\\pandas\\core\\internals\\construction.py\u001b[0m in \u001b[0;36mdict_to_mgr\u001b[1;34m(data, index, columns, dtype, typ, copy)\u001b[0m\n\u001b[0;32m    500\u001b[0m         \u001b[1;31m# TODO: can we get rid of the dt64tz special case above?\u001b[0m\u001b[1;33m\u001b[0m\u001b[1;33m\u001b[0m\u001b[0m\n\u001b[0;32m    501\u001b[0m \u001b[1;33m\u001b[0m\u001b[0m\n\u001b[1;32m--> 502\u001b[1;33m     \u001b[1;32mreturn\u001b[0m \u001b[0marrays_to_mgr\u001b[0m\u001b[1;33m(\u001b[0m\u001b[0marrays\u001b[0m\u001b[1;33m,\u001b[0m \u001b[0mcolumns\u001b[0m\u001b[1;33m,\u001b[0m \u001b[0mindex\u001b[0m\u001b[1;33m,\u001b[0m \u001b[0mdtype\u001b[0m\u001b[1;33m=\u001b[0m\u001b[0mdtype\u001b[0m\u001b[1;33m,\u001b[0m \u001b[0mtyp\u001b[0m\u001b[1;33m=\u001b[0m\u001b[0mtyp\u001b[0m\u001b[1;33m,\u001b[0m \u001b[0mconsolidate\u001b[0m\u001b[1;33m=\u001b[0m\u001b[0mcopy\u001b[0m\u001b[1;33m)\u001b[0m\u001b[1;33m\u001b[0m\u001b[1;33m\u001b[0m\u001b[0m\n\u001b[0m\u001b[0;32m    503\u001b[0m \u001b[1;33m\u001b[0m\u001b[0m\n\u001b[0;32m    504\u001b[0m \u001b[1;33m\u001b[0m\u001b[0m\n",
      "\u001b[1;32m~\\AppData\\Local\\Packages\\PythonSoftwareFoundation.Python.3.10_qbz5n2kfra8p0\\LocalCache\\local-packages\\Python310\\site-packages\\pandas\\core\\internals\\construction.py\u001b[0m in \u001b[0;36marrays_to_mgr\u001b[1;34m(arrays, columns, index, dtype, verify_integrity, typ, consolidate)\u001b[0m\n\u001b[0;32m    118\u001b[0m         \u001b[1;31m# figure out the index, if necessary\u001b[0m\u001b[1;33m\u001b[0m\u001b[1;33m\u001b[0m\u001b[0m\n\u001b[0;32m    119\u001b[0m         \u001b[1;32mif\u001b[0m \u001b[0mindex\u001b[0m \u001b[1;32mis\u001b[0m \u001b[1;32mNone\u001b[0m\u001b[1;33m:\u001b[0m\u001b[1;33m\u001b[0m\u001b[1;33m\u001b[0m\u001b[0m\n\u001b[1;32m--> 120\u001b[1;33m             \u001b[0mindex\u001b[0m \u001b[1;33m=\u001b[0m \u001b[0m_extract_index\u001b[0m\u001b[1;33m(\u001b[0m\u001b[0marrays\u001b[0m\u001b[1;33m)\u001b[0m\u001b[1;33m\u001b[0m\u001b[1;33m\u001b[0m\u001b[0m\n\u001b[0m\u001b[0;32m    121\u001b[0m         \u001b[1;32melse\u001b[0m\u001b[1;33m:\u001b[0m\u001b[1;33m\u001b[0m\u001b[1;33m\u001b[0m\u001b[0m\n\u001b[0;32m    122\u001b[0m             \u001b[0mindex\u001b[0m \u001b[1;33m=\u001b[0m \u001b[0mensure_index\u001b[0m\u001b[1;33m(\u001b[0m\u001b[0mindex\u001b[0m\u001b[1;33m)\u001b[0m\u001b[1;33m\u001b[0m\u001b[1;33m\u001b[0m\u001b[0m\n",
      "\u001b[1;32m~\\AppData\\Local\\Packages\\PythonSoftwareFoundation.Python.3.10_qbz5n2kfra8p0\\LocalCache\\local-packages\\Python310\\site-packages\\pandas\\core\\internals\\construction.py\u001b[0m in \u001b[0;36m_extract_index\u001b[1;34m(data)\u001b[0m\n\u001b[0;32m    672\u001b[0m             \u001b[0mlengths\u001b[0m \u001b[1;33m=\u001b[0m \u001b[0mlist\u001b[0m\u001b[1;33m(\u001b[0m\u001b[0mset\u001b[0m\u001b[1;33m(\u001b[0m\u001b[0mraw_lengths\u001b[0m\u001b[1;33m)\u001b[0m\u001b[1;33m)\u001b[0m\u001b[1;33m\u001b[0m\u001b[1;33m\u001b[0m\u001b[0m\n\u001b[0;32m    673\u001b[0m             \u001b[1;32mif\u001b[0m \u001b[0mlen\u001b[0m\u001b[1;33m(\u001b[0m\u001b[0mlengths\u001b[0m\u001b[1;33m)\u001b[0m \u001b[1;33m>\u001b[0m \u001b[1;36m1\u001b[0m\u001b[1;33m:\u001b[0m\u001b[1;33m\u001b[0m\u001b[1;33m\u001b[0m\u001b[0m\n\u001b[1;32m--> 674\u001b[1;33m                 \u001b[1;32mraise\u001b[0m \u001b[0mValueError\u001b[0m\u001b[1;33m(\u001b[0m\u001b[1;34m\"All arrays must be of the same length\"\u001b[0m\u001b[1;33m)\u001b[0m\u001b[1;33m\u001b[0m\u001b[1;33m\u001b[0m\u001b[0m\n\u001b[0m\u001b[0;32m    675\u001b[0m \u001b[1;33m\u001b[0m\u001b[0m\n\u001b[0;32m    676\u001b[0m             \u001b[1;32mif\u001b[0m \u001b[0mhave_dicts\u001b[0m\u001b[1;33m:\u001b[0m\u001b[1;33m\u001b[0m\u001b[1;33m\u001b[0m\u001b[0m\n",
      "\u001b[1;31mValueError\u001b[0m: All arrays must be of the same length"
     ]
    }
   ],
   "source": [
    "r = anova(tst ='Weights')"
   ]
  },
  {
   "cell_type": "code",
   "execution_count": 29,
   "metadata": {},
   "outputs": [
    {
     "data": {
      "text/plain": [
       "[  Source  ddof1       ddof2         F     p-unc       np2\n",
       " 0  group      2  111.983188  7.349406  0.001002  0.084141,\n",
       "   Source  ddof1      ddof2        F    p-unc       np2\n",
       " 0  group      2  92.483483  3.70135  0.02842  0.040091,\n",
       "   Source  ddof1       ddof2         F     p-unc      np2\n",
       " 0  group      2  111.206525  2.247097  0.110485  0.02322]"
      ]
     },
     "execution_count": 29,
     "metadata": {},
     "output_type": "execute_result"
    }
   ],
   "source": [
    "r[0]"
   ]
  },
  {
   "cell_type": "code",
   "execution_count": 30,
   "metadata": {},
   "outputs": [
    {
     "data": {
      "text/html": [
       "<div>\n",
       "<style scoped>\n",
       "    .dataframe tbody tr th:only-of-type {\n",
       "        vertical-align: middle;\n",
       "    }\n",
       "\n",
       "    .dataframe tbody tr th {\n",
       "        vertical-align: top;\n",
       "    }\n",
       "\n",
       "    .dataframe thead th {\n",
       "        text-align: right;\n",
       "    }\n",
       "</style>\n",
       "<table border=\"1\" class=\"dataframe\">\n",
       "  <thead>\n",
       "    <tr style=\"text-align: right;\">\n",
       "      <th></th>\n",
       "      <th>A</th>\n",
       "      <th>B</th>\n",
       "      <th>mean(A)</th>\n",
       "      <th>mean(B)</th>\n",
       "      <th>diff</th>\n",
       "      <th>se</th>\n",
       "      <th>T</th>\n",
       "      <th>df</th>\n",
       "      <th>pval</th>\n",
       "      <th>hedges</th>\n",
       "    </tr>\n",
       "  </thead>\n",
       "  <tbody>\n",
       "    <tr>\n",
       "      <th>0</th>\n",
       "      <td>0 KG</td>\n",
       "      <td>0.5 KG</td>\n",
       "      <td>0.757066</td>\n",
       "      <td>0.141011</td>\n",
       "      <td>0.616055</td>\n",
       "      <td>0.284060</td>\n",
       "      <td>2.168753</td>\n",
       "      <td>60.440230</td>\n",
       "      <td>0.084872</td>\n",
       "      <td>0.393436</td>\n",
       "    </tr>\n",
       "    <tr>\n",
       "      <th>1</th>\n",
       "      <td>0 KG</td>\n",
       "      <td>1 KG</td>\n",
       "      <td>0.757066</td>\n",
       "      <td>0.273154</td>\n",
       "      <td>0.483912</td>\n",
       "      <td>0.290527</td>\n",
       "      <td>1.665636</td>\n",
       "      <td>65.917109</td>\n",
       "      <td>0.226050</td>\n",
       "      <td>0.302165</td>\n",
       "    </tr>\n",
       "    <tr>\n",
       "      <th>2</th>\n",
       "      <td>0.5 KG</td>\n",
       "      <td>1 KG</td>\n",
       "      <td>0.141011</td>\n",
       "      <td>0.273154</td>\n",
       "      <td>-0.132143</td>\n",
       "      <td>0.075248</td>\n",
       "      <td>-1.756103</td>\n",
       "      <td>82.476946</td>\n",
       "      <td>0.190889</td>\n",
       "      <td>-0.318577</td>\n",
       "    </tr>\n",
       "  </tbody>\n",
       "</table>\n",
       "</div>"
      ],
      "text/plain": [
       "        A       B   mean(A)   mean(B)      diff        se         T  \\\n",
       "0    0 KG  0.5 KG  0.757066  0.141011  0.616055  0.284060  2.168753   \n",
       "1    0 KG    1 KG  0.757066  0.273154  0.483912  0.290527  1.665636   \n",
       "2  0.5 KG    1 KG  0.141011  0.273154 -0.132143  0.075248 -1.756103   \n",
       "\n",
       "          df      pval    hedges  \n",
       "0  60.440230  0.084872  0.393436  \n",
       "1  65.917109  0.226050  0.302165  \n",
       "2  82.476946  0.190889 -0.318577  "
      ]
     },
     "execution_count": 30,
     "metadata": {},
     "output_type": "execute_result"
    }
   ],
   "source": [
    "r[1][1]"
   ]
  },
  {
   "cell_type": "code",
   "execution_count": null,
   "metadata": {},
   "outputs": [],
   "source": []
  },
  {
   "cell_type": "markdown",
   "metadata": {},
   "source": [
    "# NASA"
   ]
  },
  {
   "cell_type": "code",
   "execution_count": 137,
   "metadata": {},
   "outputs": [],
   "source": [
    "# path = 'C:/Users/evach/Documents/MSc/Diss_data/3_set_baseline/Final_all/Human/NASA/manova friendly.csv'\n",
    "# path = 'C:/Users/evach/Documents/MSc/Diss_data/3_set_baseline/Final_all/Latency/NASA/manova friendly.csv'\n",
    "path = 'C:/Users/evach/Documents/MSc/Diss_data/3_set_baseline/Final_all/Weighted/NASA/manova friendly.csv'\n",
    "ls = pd.read_csv(path, index_col=[0])\n"
   ]
  },
  {
   "cell_type": "code",
   "execution_count": 138,
   "metadata": {},
   "outputs": [
    {
     "data": {
      "text/plain": [
       "['Sets',\n",
       " 'Mental demand',\n",
       " 'Physical demand ',\n",
       " 'Temporal performance ( how hurried)',\n",
       " 'Performance',\n",
       " 'Effort ',\n",
       " 'Frustration',\n",
       " 'Motivation',\n",
       " 'bnb score']"
      ]
     },
     "execution_count": 138,
     "metadata": {},
     "output_type": "execute_result"
    }
   ],
   "source": [
    "full_lst = list(chain(*[ls]))\n",
    "full_lst"
   ]
  },
  {
   "cell_type": "code",
   "execution_count": 139,
   "metadata": {},
   "outputs": [],
   "source": [
    "def pack_sets():\n",
    "    name_lst = [[] for i in range(0,len(ls.columns))]\n",
    "    #['mental', 'physical','tempo','performance','effort','frustration','motivation','BBT']\n",
    "\n",
    "    for i in range(1,len(ls.columns)):\n",
    "        individual_test = [ls.iloc[:,i]]\n",
    "        name_lst[i] = list(chain(*individual_test))\n",
    "    return name_lst"
   ]
  },
  {
   "cell_type": "code",
   "execution_count": 140,
   "metadata": {},
   "outputs": [
    {
     "data": {
      "text/plain": [
       "9"
      ]
     },
     "execution_count": 140,
     "metadata": {},
     "output_type": "execute_result"
    }
   ],
   "source": [
    "name_lst = pack_sets()\n",
    "len(name_lst)"
   ]
  },
  {
   "cell_type": "code",
   "execution_count": 142,
   "metadata": {},
   "outputs": [],
   "source": [
    "hold = []\n",
    "result=[]\n",
    "pair_result =[]\n",
    "level_name = ['0 ms', '150 ms', '300 ms']\n",
    "repeats = 40\n",
    "\n",
    "hold = pd.DataFrame({'score': name_lst[1],\n",
    "                    'group': np.repeat(level_name, repeats)}) \n",
    "result = pg.welch_anova(dv='score', between='group', data=hold)\n",
    "pair_result = pg.pairwise_gameshowell(dv='score', between='group', data=hold)\n",
    "        \n"
   ]
  },
  {
   "cell_type": "code",
   "execution_count": 143,
   "metadata": {},
   "outputs": [],
   "source": [
    "name = ['ignore',\n",
    " 'Mental demand',\n",
    " 'Physical demand ',\n",
    " 'Temporal performance ( how hurried)',\n",
    " 'Performance',\n",
    " 'Effort ',\n",
    " 'Frustration',\n",
    " 'Motivation',\n",
    " \n",
    " 'BBT']"
   ]
  },
  {
   "cell_type": "code",
   "execution_count": 211,
   "metadata": {},
   "outputs": [],
   "source": [
    "path = 'C:/Users/evach/Documents/MSc/Diss_data/3_set_baseline/Final_all/Weighted/NASA/'\n",
    "\n",
    "def anova_nasa(repeats = 40, tst = 'Latency', path = path+'/stats/'):\n",
    "    hold = [[] for  i in range(0, len(ls.columns))]\n",
    "    pair_result= [[] for  i in range(0, len(ls.columns))]\n",
    "    result= [[] for  i in range(0, len(ls.columns))]\n",
    "\n",
    "    if tst == 'Latency':\n",
    "        level_name = ['0 ms', '150 ms', '300 ms']\n",
    "    else:\n",
    "        level_name = ['0 KG', '0.5 KG', '1 KG']\n",
    "    \n",
    "    for i in range(1, len(ls.columns)):\n",
    "        hold[i] = pd.DataFrame({'score': name_lst[i],\n",
    "                    'group': np.repeat(level_name, repeats)}) \n",
    "        # result[i] = pg.welch_anova(dv='score', between='group', data=hold[i])\n",
    "        # pair_result[i] = pg.pairwise_gameshowell(dv='score', between='group', data=hold[i])\n",
    "        # result[i].to_csv(path+name[i]+' welch anova'+'.csv')\n",
    "        # pair_result[i].to_csv(path +name[i] + ' pair wise' +'.csv')\n",
    "    return hold#result, pair_result"
   ]
  },
  {
   "cell_type": "code",
   "execution_count": 212,
   "metadata": {},
   "outputs": [],
   "source": [
    "r = anova_nasa()"
   ]
  },
  {
   "cell_type": "code",
   "execution_count": 173,
   "metadata": {},
   "outputs": [
    {
     "data": {
      "text/plain": [
       "slice(80, 120, None)"
      ]
     },
     "execution_count": 173,
     "metadata": {},
     "output_type": "execute_result"
    }
   ],
   "source": [
    "pd.Index(r[1]['group']).get_loc('300 ms')"
   ]
  },
  {
   "cell_type": "code",
   "execution_count": 213,
   "metadata": {},
   "outputs": [],
   "source": [
    "s1 = pd.Index(r[1]['group']).get_loc('0 ms')\n",
    "s2 = pd.Index(r[1]['group']).get_loc('150 ms')\n",
    "s3 = pd.Index(r[1]['group']).get_loc('300 ms')"
   ]
  },
  {
   "cell_type": "code",
   "execution_count": 217,
   "metadata": {},
   "outputs": [
    {
     "name": "stderr",
     "output_type": "stream",
     "text": [
      "C:\\Users\\evach\\AppData\\Local\\Temp\\ipykernel_33172\\1711736038.py:4: SettingWithCopyWarning: \n",
      "A value is trying to be set on a copy of a slice from a DataFrame\n",
      "\n",
      "See the caveats in the documentation: https://pandas.pydata.org/pandas-docs/stable/user_guide/indexing.html#returning-a-view-versus-a-copy\n",
      "  d1.drop('group', axis =1 ,inplace = True)\n"
     ]
    }
   ],
   "source": [
    "d1 = r[1].iloc[s1]#.drop('group', axis =1 ,inplace = True)\n",
    "d2 = r[1].iloc[s2]#.drop('group', axis =1 ,inplace = True)\n",
    "d3 = r[1].iloc[s3]#.drop('group', axis =1 ,inplace = True)\n",
    "d1.drop('group', axis =1 ,inplace = True)\n"
   ]
  },
  {
   "cell_type": "code",
   "execution_count": 218,
   "metadata": {},
   "outputs": [
    {
     "name": "stderr",
     "output_type": "stream",
     "text": [
      "C:\\Users\\evach\\AppData\\Local\\Temp\\ipykernel_33172\\2750597821.py:1: SettingWithCopyWarning: \n",
      "A value is trying to be set on a copy of a slice from a DataFrame\n",
      "\n",
      "See the caveats in the documentation: https://pandas.pydata.org/pandas-docs/stable/user_guide/indexing.html#returning-a-view-versus-a-copy\n",
      "  d2.drop('group', axis =1 ,inplace = True)\n",
      "C:\\Users\\evach\\AppData\\Local\\Temp\\ipykernel_33172\\2750597821.py:2: SettingWithCopyWarning: \n",
      "A value is trying to be set on a copy of a slice from a DataFrame\n",
      "\n",
      "See the caveats in the documentation: https://pandas.pydata.org/pandas-docs/stable/user_guide/indexing.html#returning-a-view-versus-a-copy\n",
      "  d3.drop('group', axis =1 ,inplace = True)\n"
     ]
    }
   ],
   "source": [
    "d2.drop('group', axis =1 ,inplace = True)\n",
    "d3.drop('group', axis =1 ,inplace = True)"
   ]
  },
  {
   "cell_type": "code",
   "execution_count": 225,
   "metadata": {},
   "outputs": [],
   "source": [
    "data_1 = d1.to_numpy()\n",
    "data_2 = d2.to_numpy()\n",
    "data_3 = d3.to_numpy()\n",
    "\n",
    "data_1 = list(chain(*data_1))\n",
    "data_2 = list(chain(*data_2))\n",
    "data_3 = list(chain(*data_3))"
   ]
  },
  {
   "cell_type": "code",
   "execution_count": 227,
   "metadata": {},
   "outputs": [
    {
     "data": {
      "text/plain": [
       "[40.0,\n",
       " 40.0,\n",
       " 40.0,\n",
       " 40.0,\n",
       " 40.0,\n",
       " 40.0,\n",
       " 60.0,\n",
       " 60.0,\n",
       " 50.0,\n",
       " 50.0,\n",
       " 80.0,\n",
       " 60.0,\n",
       " 70.0,\n",
       " 90.0,\n",
       " 60.0,\n",
       " 60.0,\n",
       " 70.0,\n",
       " 80.0,\n",
       " 70.0,\n",
       " 80.0,\n",
       " 20.0,\n",
       " 20.0,\n",
       " 20.0,\n",
       " 20.0,\n",
       " 20.0,\n",
       " 20.0,\n",
       " 25.0,\n",
       " 25.0,\n",
       " 30.0,\n",
       " 25.0,\n",
       " 50.0,\n",
       " 40.0,\n",
       " 40.0,\n",
       " 40.0,\n",
       " 35.0,\n",
       " 20.0,\n",
       " 15.0,\n",
       " 15.0,\n",
       " 15.0,\n",
       " 10.0]"
      ]
     },
     "execution_count": 227,
     "metadata": {},
     "output_type": "execute_result"
    }
   ],
   "source": [
    "data_2"
   ]
  },
  {
   "cell_type": "code",
   "execution_count": 235,
   "metadata": {},
   "outputs": [
    {
     "ename": "AttributeError",
     "evalue": "'list' object has no attribute 'corr'",
     "output_type": "error",
     "traceback": [
      "\u001b[1;31m---------------------------------------------------------------------------\u001b[0m",
      "\u001b[1;31mAttributeError\u001b[0m                            Traceback (most recent call last)",
      "\u001b[1;32m~\\AppData\\Local\\Temp\\ipykernel_33172\\620852616.py\u001b[0m in \u001b[0;36m<cell line: 2>\u001b[1;34m()\u001b[0m\n\u001b[0;32m      1\u001b[0m \u001b[0mf_1\u001b[0m \u001b[1;33m=\u001b[0m \u001b[1;33m[\u001b[0m\u001b[0mdata_1\u001b[0m\u001b[1;33m,\u001b[0m \u001b[0mdata_2\u001b[0m\u001b[1;33m,\u001b[0m \u001b[0mdata_3\u001b[0m\u001b[1;33m]\u001b[0m\u001b[1;33m\u001b[0m\u001b[1;33m\u001b[0m\u001b[0m\n\u001b[1;32m----> 2\u001b[1;33m \u001b[0mf_1\u001b[0m\u001b[1;33m.\u001b[0m\u001b[0mcorr\u001b[0m\u001b[1;33m(\u001b[0m\u001b[1;33m)\u001b[0m\u001b[1;33m\u001b[0m\u001b[1;33m\u001b[0m\u001b[0m\n\u001b[0m",
      "\u001b[1;31mAttributeError\u001b[0m: 'list' object has no attribute 'corr'"
     ]
    }
   ],
   "source": [
    "f_1 = [data_1, data_2, data_3]\n",
    "f_1.corr()"
   ]
  },
  {
   "cell_type": "code",
   "execution_count": 231,
   "metadata": {},
   "outputs": [],
   "source": [
    "correlation_matrix = np.corrcoef(data_1, data_3, data_2)\n",
    "correlation_xy = correlation_matrix[0,1]\n",
    "r_squared = correlation_xy**2"
   ]
  },
  {
   "cell_type": "code",
   "execution_count": 232,
   "metadata": {},
   "outputs": [
    {
     "data": {
      "text/plain": [
       "0.8441891794373101"
      ]
     },
     "execution_count": 232,
     "metadata": {},
     "output_type": "execute_result"
    }
   ],
   "source": [
    "from scipy import stats\n",
    "num_sets = 3\n",
    "def general_trend_stat(sets):\n",
    "  hold = [ [] for i in range(0,num_sets) ]\n",
    "  stat_frame = [pd.DataFrame() for k in range(num_sets)]\n",
    "\n",
    "  # for each data set/ condition, calcualte the stats\n",
    "  for k in range(0, num_sets):\n",
    "    x = range(0, len(sets[k]))\n",
    "    for column in sets[k]:\n",
    "      slope, intercept, r_value, p_value, std_err = stats.linregress(x, sets[k].loc[:,column])\n",
    "      hold[k].append((slope,r_value,p_value,std_err))\n",
    "\n",
    "    stat_frame[k] = pd.DataFrame(hold[k], columns = ['slope', 'r_value', 'p_value', 'std_err'])\n",
    "  return stat_frame\n"
   ]
  },
  {
   "cell_type": "code",
   "execution_count": 228,
   "metadata": {},
   "outputs": [
    {
     "ename": "TypeError",
     "evalue": "object of type 'types.GenericAlias' has no len()",
     "output_type": "error",
     "traceback": [
      "\u001b[1;31m---------------------------------------------------------------------------\u001b[0m",
      "\u001b[1;31mTypeError\u001b[0m                                 Traceback (most recent call last)",
      "\u001b[1;32m~\\AppData\\Local\\Temp\\ipykernel_33172\\955126480.py\u001b[0m in \u001b[0;36m<cell line: 5>\u001b[1;34m()\u001b[0m\n\u001b[0;32m      3\u001b[0m \u001b[1;31m# print(stats.bartlett(t1,t2,t3))\u001b[0m\u001b[1;33m\u001b[0m\u001b[1;33m\u001b[0m\u001b[0m\n\u001b[0;32m      4\u001b[0m \u001b[1;33m\u001b[0m\u001b[0m\n\u001b[1;32m----> 5\u001b[1;33m \u001b[0mprint\u001b[0m\u001b[1;33m(\u001b[0m\u001b[0mstats\u001b[0m\u001b[1;33m.\u001b[0m\u001b[0mbartlett\u001b[0m\u001b[1;33m(\u001b[0m\u001b[0mlist\u001b[0m\u001b[1;33m[\u001b[0m\u001b[0mdata_1\u001b[0m\u001b[1;33m]\u001b[0m\u001b[1;33m,\u001b[0m\u001b[0mlist\u001b[0m\u001b[1;33m[\u001b[0m\u001b[0mdata_2\u001b[0m\u001b[1;33m]\u001b[0m\u001b[1;33m,\u001b[0m\u001b[0mlist\u001b[0m\u001b[1;33m[\u001b[0m\u001b[0mdata_3\u001b[0m\u001b[1;33m]\u001b[0m\u001b[1;33m)\u001b[0m\u001b[1;33m)\u001b[0m\u001b[1;33m\u001b[0m\u001b[1;33m\u001b[0m\u001b[0m\n\u001b[0m",
      "\u001b[1;32m~\\AppData\\Local\\Packages\\PythonSoftwareFoundation.Python.3.10_qbz5n2kfra8p0\\LocalCache\\local-packages\\Python310\\site-packages\\scipy\\stats\\_morestats.py\u001b[0m in \u001b[0;36mbartlett\u001b[1;34m(*samples)\u001b[0m\n\u001b[0;32m   2501\u001b[0m     \u001b[0mssq\u001b[0m \u001b[1;33m=\u001b[0m \u001b[0mnp\u001b[0m\u001b[1;33m.\u001b[0m\u001b[0mempty\u001b[0m\u001b[1;33m(\u001b[0m\u001b[0mk\u001b[0m\u001b[1;33m,\u001b[0m \u001b[1;34m'd'\u001b[0m\u001b[1;33m)\u001b[0m\u001b[1;33m\u001b[0m\u001b[1;33m\u001b[0m\u001b[0m\n\u001b[0;32m   2502\u001b[0m     \u001b[1;32mfor\u001b[0m \u001b[0mj\u001b[0m \u001b[1;32min\u001b[0m \u001b[0mrange\u001b[0m\u001b[1;33m(\u001b[0m\u001b[0mk\u001b[0m\u001b[1;33m)\u001b[0m\u001b[1;33m:\u001b[0m\u001b[1;33m\u001b[0m\u001b[1;33m\u001b[0m\u001b[0m\n\u001b[1;32m-> 2503\u001b[1;33m         \u001b[0mNi\u001b[0m\u001b[1;33m[\u001b[0m\u001b[0mj\u001b[0m\u001b[1;33m]\u001b[0m \u001b[1;33m=\u001b[0m \u001b[0mlen\u001b[0m\u001b[1;33m(\u001b[0m\u001b[0msamples\u001b[0m\u001b[1;33m[\u001b[0m\u001b[0mj\u001b[0m\u001b[1;33m]\u001b[0m\u001b[1;33m)\u001b[0m\u001b[1;33m\u001b[0m\u001b[1;33m\u001b[0m\u001b[0m\n\u001b[0m\u001b[0;32m   2504\u001b[0m         \u001b[0mssq\u001b[0m\u001b[1;33m[\u001b[0m\u001b[0mj\u001b[0m\u001b[1;33m]\u001b[0m \u001b[1;33m=\u001b[0m \u001b[0mnp\u001b[0m\u001b[1;33m.\u001b[0m\u001b[0mvar\u001b[0m\u001b[1;33m(\u001b[0m\u001b[0msamples\u001b[0m\u001b[1;33m[\u001b[0m\u001b[0mj\u001b[0m\u001b[1;33m]\u001b[0m\u001b[1;33m,\u001b[0m \u001b[0mddof\u001b[0m\u001b[1;33m=\u001b[0m\u001b[1;36m1\u001b[0m\u001b[1;33m)\u001b[0m\u001b[1;33m\u001b[0m\u001b[1;33m\u001b[0m\u001b[0m\n\u001b[0;32m   2505\u001b[0m     \u001b[0mNtot\u001b[0m \u001b[1;33m=\u001b[0m \u001b[0mnp\u001b[0m\u001b[1;33m.\u001b[0m\u001b[0msum\u001b[0m\u001b[1;33m(\u001b[0m\u001b[0mNi\u001b[0m\u001b[1;33m,\u001b[0m \u001b[0maxis\u001b[0m\u001b[1;33m=\u001b[0m\u001b[1;36m0\u001b[0m\u001b[1;33m)\u001b[0m\u001b[1;33m\u001b[0m\u001b[1;33m\u001b[0m\u001b[0m\n",
      "\u001b[1;31mTypeError\u001b[0m: object of type 'types.GenericAlias' has no len()"
     ]
    }
   ],
   "source": [
    "# print(stats.bartlett(hr1,hr2,hr3))\n",
    "# print(stats.bartlett(eda1,eda2,eda3))\n",
    "# print(stats.bartlett(t1,t2,t3))\n",
    "\n",
    "print(stats.bartlett(list[data_1],list[data_2],list[data_3]))"
   ]
  },
  {
   "cell_type": "markdown",
   "metadata": {},
   "source": [
    "'Sets',\n",
    " 'Mental demand',\n",
    " 'Physical demand ',\n",
    " 'Temporal performance ( how hurried)',\n",
    " 'Performance',\n",
    " 'Effort ',\n",
    " 'Frustration',\n",
    " 'Motivation',\n",
    " 'bnb score'"
   ]
  },
  {
   "cell_type": "code",
   "execution_count": 148,
   "metadata": {},
   "outputs": [
    {
     "data": {
      "text/plain": [
       "([[],\n",
       "    Source  ddof1      ddof2         F     p-unc       np2\n",
       "  0  group      2  76.833987  0.362628  0.697029  0.005297,\n",
       "    Source  ddof1     ddof2         F     p-unc       np2\n",
       "  0  group      2  77.06607  1.533965  0.222191  0.023919,\n",
       "    Source  ddof1     ddof2        F    p-unc       np2\n",
       "  0  group      2  77.91844  1.77546  0.17619  0.028756,\n",
       "    Source  ddof1      ddof2       F    p-unc       np2\n",
       "  0  group      2  77.750297  1.1913  0.30931  0.021036,\n",
       "    Source  ddof1      ddof2        F     p-unc       np2\n",
       "  0  group      2  75.332933  0.76626  0.468336  0.010279,\n",
       "    Source  ddof1      ddof2         F     p-unc       np2\n",
       "  0  group      2  77.547622  2.334764  0.103605  0.036023,\n",
       "    Source  ddof1      ddof2         F     p-unc       np2\n",
       "  0  group      2  71.218644  4.163501  0.019496  0.056697,\n",
       "    Source  ddof1      ddof2        F     p-unc       np2\n",
       "  0  group      2  77.781943  3.87926  0.024779  0.058917],\n",
       " [[],\n",
       "          A       B  mean(A)  mean(B)   diff        se         T         df  \\\n",
       "  0    0 ms  150 ms   42.125   42.125  0.000  5.623825  0.000000  73.401038   \n",
       "  1    0 ms  300 ms   42.125   38.500  3.625  5.506661  0.658294  71.398141   \n",
       "  2  150 ms  300 ms   42.125   38.500  3.625  4.733566  0.765807  77.736679   \n",
       "  \n",
       "         pval    hedges  \n",
       "  0  1.000000  0.000000  \n",
       "  1  0.788280  0.145779  \n",
       "  2  0.724992  0.169588  ,\n",
       "          A       B  mean(A)  mean(B)   diff        se         T         df  \\\n",
       "  0    0 ms  150 ms   49.975   51.250 -1.275  5.239671 -0.243336  73.374311   \n",
       "  1    0 ms  300 ms   49.975   57.875 -7.900  5.230909 -1.510254  73.227989   \n",
       "  2  150 ms  300 ms   51.250   57.875 -6.625  4.524285 -1.464320  77.998433   \n",
       "  \n",
       "         pval    hedges  \n",
       "  0  0.967900 -0.053887  \n",
       "  1  0.292075 -0.334445  \n",
       "  2  0.313618 -0.324273  ,\n",
       "          A       B  mean(A)  mean(B)   diff        se         T         df  \\\n",
       "  0    0 ms  150 ms   45.500   39.875  5.625  4.153650  1.354231  77.736952   \n",
       "  1    0 ms  300 ms   45.500   47.125 -1.625  4.116444 -0.394758  77.535682   \n",
       "  2  150 ms  300 ms   39.875   47.125 -7.250  3.992682 -1.815822  77.970953   \n",
       "  \n",
       "         pval    hedges  \n",
       "  0  0.369927  0.299894  \n",
       "  1  0.917785 -0.087419  \n",
       "  2  0.171123 -0.402114  ,\n",
       "          A       B  mean(A)  mean(B)   diff        se         T         df  \\\n",
       "  0    0 ms  150 ms    50.75   59.000 -8.250  5.554941 -1.485164  76.568262   \n",
       "  1    0 ms  300 ms    50.75   52.175 -1.425  5.373086 -0.265211  77.536459   \n",
       "  2  150 ms  300 ms    59.00   52.175  6.825  5.752356  1.186470  77.719660   \n",
       "  \n",
       "         pval    hedges  \n",
       "  0  0.303660 -0.328889  \n",
       "  1  0.961988 -0.058731  \n",
       "  2  0.464763  0.262744  ,\n",
       "          A       B  mean(A)  mean(B)   diff        se         T         df  \\\n",
       "  0    0 ms  150 ms    61.25   66.250 -5.000  5.093674 -0.981610  67.115158   \n",
       "  1    0 ms  300 ms    61.25   61.375 -0.125  5.691699 -0.021962  76.829373   \n",
       "  2  150 ms  300 ms    66.25   61.375  4.875  4.684732  1.040614  71.798655   \n",
       "  \n",
       "         pval    hedges  \n",
       "  0  0.590958 -0.217377  \n",
       "  1  0.999734 -0.004863  \n",
       "  2  0.553899  0.230444  ,\n",
       "          A       B  mean(A)  mean(B)   diff        se         T         df  \\\n",
       "  0    0 ms  150 ms    39.75    40.00  -0.25  5.915944 -0.042259  75.937682   \n",
       "  1    0 ms  300 ms    39.75    50.25 -10.50  5.885935 -1.783914  75.638233   \n",
       "  2  150 ms  300 ms    40.00    50.25 -10.25  5.373695 -1.907440  77.988269   \n",
       "  \n",
       "         pval    hedges  \n",
       "  0  0.999016 -0.009358  \n",
       "  1  0.181878 -0.395047  \n",
       "  2  0.143364 -0.422402  ,\n",
       "          A       B  mean(A)  mean(B)    diff        se         T         df  \\\n",
       "  0    0 ms  150 ms   72.750   66.875   5.875  2.800169  2.098088  71.981679   \n",
       "  1    0 ms  300 ms   72.750   61.500  11.250  4.686143  2.400695  50.102936   \n",
       "  2  150 ms  300 ms   66.875   61.500   5.375  4.922110  1.092011  58.225165   \n",
       "  \n",
       "         pval    hedges  \n",
       "  0  0.097358  0.464621  \n",
       "  1  0.051714  0.531633  \n",
       "  2  0.522816  0.241826  ,\n",
       "          A       B  mean(A)  mean(B)   diff        se         T         df  \\\n",
       "  0    0 ms  150 ms   12.675   13.325 -0.650  0.789981 -0.822804  77.967096   \n",
       "  1    0 ms  300 ms   12.675   11.300  1.375  0.754973  1.821258  76.939844   \n",
       "  2  150 ms  300 ms   13.325   11.300  2.025  0.746434  2.712900  77.271827   \n",
       "  \n",
       "         pval    hedges  \n",
       "  0  0.690082 -0.182210  \n",
       "  1  0.169462  0.403317  \n",
       "  2  0.022146  0.600771  ])"
      ]
     },
     "execution_count": 148,
     "metadata": {},
     "output_type": "execute_result"
    }
   ],
   "source": [
    "r"
   ]
  },
  {
   "cell_type": "code",
   "execution_count": null,
   "metadata": {},
   "outputs": [],
   "source": []
  }
 ],
 "metadata": {
  "kernelspec": {
   "display_name": "Python 3.10.7 64-bit (microsoft store)",
   "language": "python",
   "name": "python3"
  },
  "language_info": {
   "codemirror_mode": {
    "name": "ipython",
    "version": 3
   },
   "file_extension": ".py",
   "mimetype": "text/x-python",
   "name": "python",
   "nbconvert_exporter": "python",
   "pygments_lexer": "ipython3",
   "version": "3.10.7"
  },
  "orig_nbformat": 4,
  "vscode": {
   "interpreter": {
    "hash": "0241e48769f7305f475736cfd22aa0e9a293847bdf53b195aaa1a7b58cbf9c14"
   }
  }
 },
 "nbformat": 4,
 "nbformat_minor": 2
}
