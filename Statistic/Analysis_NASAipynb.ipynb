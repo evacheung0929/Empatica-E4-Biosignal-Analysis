{
 "cells": [
  {
   "cell_type": "code",
   "execution_count": 2,
   "metadata": {},
   "outputs": [],
   "source": [
    "import numpy as np\n",
    "import pandas as pd\n",
    "import matplotlib.pyplot as plt\n",
    "import glob"
   ]
  },
  {
   "cell_type": "markdown",
   "metadata": {},
   "source": [
    "# Obtainning the individual participant data"
   ]
  },
  {
   "cell_type": "code",
   "execution_count": 317,
   "metadata": {},
   "outputs": [],
   "source": [
    "path = 'C:/Users/evach/Documents/MSc/Diss_data/3_set_baseline/Weighted 4 out of 4/01_Martina/com'\n",
    "# path = 'C:/Users/evach/Documents/MSc/Diss_data/3_set_baseline/Latency/00_Dong/com/TLX/'\n",
    "\n",
    "participant = str(1)\n",
    "\n",
    "csv_files = glob.glob(path +'/*.csv')\n",
    "t_df_lst = [pd.read_csv(i) for i in csv_files]\n",
    "\n",
    "tlx_1 = t_df_lst[0]\n",
    "tlx_2 = t_df_lst[1]\n",
    "tlx_3 = t_df_lst[2]\n",
    "NASA_names = pd.Index(tlx_2['Test'])"
   ]
  },
  {
   "cell_type": "code",
   "execution_count": 318,
   "metadata": {},
   "outputs": [
    {
     "data": {
      "text/html": [
       "<div>\n",
       "<style scoped>\n",
       "    .dataframe tbody tr th:only-of-type {\n",
       "        vertical-align: middle;\n",
       "    }\n",
       "\n",
       "    .dataframe tbody tr th {\n",
       "        vertical-align: top;\n",
       "    }\n",
       "\n",
       "    .dataframe thead th {\n",
       "        text-align: right;\n",
       "    }\n",
       "</style>\n",
       "<table border=\"1\" class=\"dataframe\">\n",
       "  <thead>\n",
       "    <tr style=\"text-align: right;\">\n",
       "      <th></th>\n",
       "      <th>Test</th>\n",
       "      <th>T_1</th>\n",
       "      <th>T_2</th>\n",
       "      <th>T_3</th>\n",
       "      <th>T_4</th>\n",
       "      <th>T_5</th>\n",
       "      <th>T_6</th>\n",
       "      <th>T_7</th>\n",
       "      <th>T_8</th>\n",
       "      <th>T_9</th>\n",
       "      <th>T_10</th>\n",
       "    </tr>\n",
       "  </thead>\n",
       "  <tbody>\n",
       "    <tr>\n",
       "      <th>0</th>\n",
       "      <td>Mental demand</td>\n",
       "      <td>30</td>\n",
       "      <td>30</td>\n",
       "      <td>30</td>\n",
       "      <td>40</td>\n",
       "      <td>40</td>\n",
       "      <td>40</td>\n",
       "      <td>40</td>\n",
       "      <td>50</td>\n",
       "      <td>50</td>\n",
       "      <td>60</td>\n",
       "    </tr>\n",
       "    <tr>\n",
       "      <th>1</th>\n",
       "      <td>Physical demand</td>\n",
       "      <td>60</td>\n",
       "      <td>70</td>\n",
       "      <td>70</td>\n",
       "      <td>80</td>\n",
       "      <td>80</td>\n",
       "      <td>80</td>\n",
       "      <td>80</td>\n",
       "      <td>90</td>\n",
       "      <td>90</td>\n",
       "      <td>100</td>\n",
       "    </tr>\n",
       "    <tr>\n",
       "      <th>2</th>\n",
       "      <td>Temporal performance ( how hurried)</td>\n",
       "      <td>50</td>\n",
       "      <td>50</td>\n",
       "      <td>50</td>\n",
       "      <td>50</td>\n",
       "      <td>60</td>\n",
       "      <td>50</td>\n",
       "      <td>50</td>\n",
       "      <td>60</td>\n",
       "      <td>50</td>\n",
       "      <td>60</td>\n",
       "    </tr>\n",
       "    <tr>\n",
       "      <th>3</th>\n",
       "      <td>Performance</td>\n",
       "      <td>60</td>\n",
       "      <td>60</td>\n",
       "      <td>70</td>\n",
       "      <td>70</td>\n",
       "      <td>50</td>\n",
       "      <td>70</td>\n",
       "      <td>90</td>\n",
       "      <td>60</td>\n",
       "      <td>70</td>\n",
       "      <td>80</td>\n",
       "    </tr>\n",
       "    <tr>\n",
       "      <th>4</th>\n",
       "      <td>Effort</td>\n",
       "      <td>80</td>\n",
       "      <td>90</td>\n",
       "      <td>90</td>\n",
       "      <td>90</td>\n",
       "      <td>90</td>\n",
       "      <td>90</td>\n",
       "      <td>100</td>\n",
       "      <td>100</td>\n",
       "      <td>90</td>\n",
       "      <td>100</td>\n",
       "    </tr>\n",
       "    <tr>\n",
       "      <th>5</th>\n",
       "      <td>Frustration</td>\n",
       "      <td>20</td>\n",
       "      <td>30</td>\n",
       "      <td>30</td>\n",
       "      <td>50</td>\n",
       "      <td>60</td>\n",
       "      <td>30</td>\n",
       "      <td>30</td>\n",
       "      <td>50</td>\n",
       "      <td>40</td>\n",
       "      <td>60</td>\n",
       "    </tr>\n",
       "    <tr>\n",
       "      <th>6</th>\n",
       "      <td>Motivation</td>\n",
       "      <td>100</td>\n",
       "      <td>100</td>\n",
       "      <td>100</td>\n",
       "      <td>100</td>\n",
       "      <td>100</td>\n",
       "      <td>100</td>\n",
       "      <td>100</td>\n",
       "      <td>90</td>\n",
       "      <td>90</td>\n",
       "      <td>90</td>\n",
       "    </tr>\n",
       "    <tr>\n",
       "      <th>7</th>\n",
       "      <td>bnb score</td>\n",
       "      <td>9</td>\n",
       "      <td>9</td>\n",
       "      <td>11</td>\n",
       "      <td>10</td>\n",
       "      <td>8</td>\n",
       "      <td>11</td>\n",
       "      <td>17</td>\n",
       "      <td>11</td>\n",
       "      <td>13</td>\n",
       "      <td>14</td>\n",
       "    </tr>\n",
       "  </tbody>\n",
       "</table>\n",
       "</div>"
      ],
      "text/plain": [
       "                                  Test  T_1  T_2  T_3  T_4  T_5  T_6  T_7  \\\n",
       "0                        Mental demand   30   30   30   40   40   40   40   \n",
       "1                     Physical demand    60   70   70   80   80   80   80   \n",
       "2  Temporal performance ( how hurried)   50   50   50   50   60   50   50   \n",
       "3                          Performance   60   60   70   70   50   70   90   \n",
       "4                              Effort    80   90   90   90   90   90  100   \n",
       "5                          Frustration   20   30   30   50   60   30   30   \n",
       "6                           Motivation  100  100  100  100  100  100  100   \n",
       "7                            bnb score    9    9   11   10    8   11   17   \n",
       "\n",
       "   T_8  T_9  T_10  \n",
       "0   50   50    60  \n",
       "1   90   90   100  \n",
       "2   60   50    60  \n",
       "3   60   70    80  \n",
       "4  100   90   100  \n",
       "5   50   40    60  \n",
       "6   90   90    90  \n",
       "7   11   13    14  "
      ]
     },
     "execution_count": 318,
     "metadata": {},
     "output_type": "execute_result"
    }
   ],
   "source": [
    "tlx_1\n",
    "# tlx_2\n",
    "tlx_3"
   ]
  },
  {
   "cell_type": "markdown",
   "metadata": {},
   "source": [
    "## tlx_all Return 1x3x8 array ---> 3 sets, each for a NASA question (8 questions in tot)"
   ]
  },
  {
   "cell_type": "code",
   "execution_count": 319,
   "metadata": {},
   "outputs": [
    {
     "data": {
      "text/plain": [
       "([[30.0, 50.0, 50.0, 60.0, 50.0, 40.0, 50.0, 50.0, 40.0, 50.0],\n",
       "  [30.0, 40.0, 50.0, 50.0, 60.0, 50.0, 60.0, 60.0, 70.0, 79.0],\n",
       "  [30.0, 40.0, 40.0, 40.0, 40.0, 40.0, 40.0, 40.0, 40.0, 40.0],\n",
       "  [70.0, 50.0, 60.0, 70.0, 80.0, 80.0, 60.0, 70.0, 80.0, 70.0],\n",
       "  [90.0, 90.0, 90.0, 90.0, 90.0, 90.0, 90.0, 90.0, 90.0, 90.0],\n",
       "  [0.0, 50.0, 50.0, 60.0, 50.0, 40.0, 50.0, 40.0, 40.0, 50.0],\n",
       "  [80.0, 80.0, 80.0, 80.0, 80.0, 80.0, 80.0, 80.0, 80.0, 80.0],\n",
       "  [14.0, 9.0, 12.0, 14.0, 16.0, 18.0, 14.0, 13.0, 19.0, 16.0]],\n",
       " [[40.0, 40.0, 40.0, 40.0, 40.0, 40.0, 60.0, 60.0, 50.0, 50.0],\n",
       "  [40.0, 50.0, 50.0, 50.0, 60.0, 60.0, 70.0, 70.0, 80.0, 90.0],\n",
       "  [40.0, 40.0, 40.0, 40.0, 50.0, 40.0, 40.0, 40.0, 40.0, 40.0],\n",
       "  [60.0, 60.0, 90.0, 90.0, 90.0, 90.0, 80.0, 70.0, 80.0, 80.0],\n",
       "  [90.0, 90.0, 90.0, 90.0, 90.0, 90.0, 90.0, 90.0, 90.0, 90.0],\n",
       "  [50.0, 50.0, 40.0, 50.0, 40.0, 40.0, 70.0, 70.0, 70.0, 50.0],\n",
       "  [80.0, 80.0, 80.0, 80.0, 80.0, 80.0, 80.0, 80.0, 80.0, 80.0],\n",
       "  [13.0, 13.0, 17.0, 17.0, 19.0, 19.0, 18.0, 15.0, 18.0, 15.0]],\n",
       " [[30.0, 30.0, 30.0, 40.0, 40.0, 40.0, 40.0, 50.0, 50.0, 60.0],\n",
       "  [60.0, 70.0, 70.0, 80.0, 80.0, 80.0, 80.0, 90.0, 90.0, 100.0],\n",
       "  [50.0, 50.0, 50.0, 50.0, 60.0, 50.0, 50.0, 60.0, 50.0, 60.0],\n",
       "  [60.0, 60.0, 70.0, 70.0, 50.0, 70.0, 90.0, 60.0, 70.0, 80.0],\n",
       "  [80.0, 90.0, 90.0, 90.0, 90.0, 90.0, 100.0, 100.0, 90.0, 100.0],\n",
       "  [20.0, 30.0, 30.0, 50.0, 60.0, 30.0, 30.0, 50.0, 40.0, 60.0],\n",
       "  [100.0, 100.0, 100.0, 100.0, 100.0, 100.0, 100.0, 90.0, 90.0, 90.0],\n",
       "  [9.0, 9.0, 11.0, 10.0, 8.0, 11.0, 17.0, 11.0, 13.0, 14.0]])"
      ]
     },
     "execution_count": 319,
     "metadata": {},
     "output_type": "execute_result"
    }
   ],
   "source": [
    "\n",
    "def plt_TLX(tst_0 = tlx_1, tst_500 = tlx_2, tst_1kg = tlx_3, participant = 'Ignore', path = path):\n",
    "  x = range(1,len(tst_0.columns))\n",
    "  level_0, level_1, level_2 = [[] for i in range(0,3)]\n",
    "\n",
    "  for i in pd.Index(tst_0['Test']):\n",
    "    lst_NASA_name = pd.Index(tst_0['Test']).get_loc(i) \n",
    "    y0 = tst_0.iloc[lst_NASA_name].to_list()\n",
    "    y_0_axis = y0[1:]\n",
    "    y0 = [float(i) for i in y_0_axis]\n",
    "    \n",
    "    y1 = tst_500.iloc[lst_NASA_name].to_list()\n",
    "    y_1_axis = y1[1:]\n",
    "    y1 = [float(i) for i in y_1_axis]\n",
    "\n",
    "    y2 = tst_1kg.iloc[lst_NASA_name].to_list()\n",
    "    y_2_axis = y2[1:]\n",
    "    y2 = [float(i) for i in y_2_axis]\n",
    "\n",
    "    level_0.append(y0)\n",
    "    level_1.append(y1)\n",
    "    level_2.append(y2)\n",
    "\n",
    "  return level_0,level_1,level_2\n",
    "plt_TLX()"
   ]
  },
  {
   "cell_type": "markdown",
   "metadata": {},
   "source": [
    "Group & organise data into individual NASA questions\n",
    "e.g.  \n",
    "tlx_all[0]\n",
    "--> return data frame for ['set 1','set 2','set 3'] in 'Mental demand'\n",
    "This is for individual participant only, so only have 3 rows"
   ]
  },
  {
   "cell_type": "code",
   "execution_count": 321,
   "metadata": {},
   "outputs": [
    {
     "name": "stdout",
     "output_type": "stream",
     "text": [
      "[[30.0, 50.0, 50.0, 60.0, 50.0, 40.0, 50.0, 50.0, 40.0, 50.0], [40.0, 40.0, 40.0, 40.0, 40.0, 40.0, 60.0, 60.0, 50.0, 50.0], [30.0, 30.0, 30.0, 40.0, 40.0, 40.0, 40.0, 50.0, 50.0, 60.0]]\n",
      "[[30.0, 40.0, 50.0, 50.0, 60.0, 50.0, 60.0, 60.0, 70.0, 79.0], [40.0, 50.0, 50.0, 50.0, 60.0, 60.0, 70.0, 70.0, 80.0, 90.0], [60.0, 70.0, 70.0, 80.0, 80.0, 80.0, 80.0, 90.0, 90.0, 100.0]]\n",
      "[[30.0, 40.0, 40.0, 40.0, 40.0, 40.0, 40.0, 40.0, 40.0, 40.0], [40.0, 40.0, 40.0, 40.0, 50.0, 40.0, 40.0, 40.0, 40.0, 40.0], [50.0, 50.0, 50.0, 50.0, 60.0, 50.0, 50.0, 60.0, 50.0, 60.0]]\n",
      "[[70.0, 50.0, 60.0, 70.0, 80.0, 80.0, 60.0, 70.0, 80.0, 70.0], [60.0, 60.0, 90.0, 90.0, 90.0, 90.0, 80.0, 70.0, 80.0, 80.0], [60.0, 60.0, 70.0, 70.0, 50.0, 70.0, 90.0, 60.0, 70.0, 80.0]]\n",
      "[[90.0, 90.0, 90.0, 90.0, 90.0, 90.0, 90.0, 90.0, 90.0, 90.0], [90.0, 90.0, 90.0, 90.0, 90.0, 90.0, 90.0, 90.0, 90.0, 90.0], [80.0, 90.0, 90.0, 90.0, 90.0, 90.0, 100.0, 100.0, 90.0, 100.0]]\n",
      "[[0.0, 50.0, 50.0, 60.0, 50.0, 40.0, 50.0, 40.0, 40.0, 50.0], [50.0, 50.0, 40.0, 50.0, 40.0, 40.0, 70.0, 70.0, 70.0, 50.0], [20.0, 30.0, 30.0, 50.0, 60.0, 30.0, 30.0, 50.0, 40.0, 60.0]]\n",
      "[[80.0, 80.0, 80.0, 80.0, 80.0, 80.0, 80.0, 80.0, 80.0, 80.0], [80.0, 80.0, 80.0, 80.0, 80.0, 80.0, 80.0, 80.0, 80.0, 80.0], [100.0, 100.0, 100.0, 100.0, 100.0, 100.0, 100.0, 90.0, 90.0, 90.0]]\n",
      "[[14.0, 9.0, 12.0, 14.0, 16.0, 18.0, 14.0, 13.0, 19.0, 16.0], [13.0, 13.0, 17.0, 17.0, 19.0, 19.0, 18.0, 15.0, 18.0, 15.0], [9.0, 9.0, 11.0, 10.0, 8.0, 11.0, 17.0, 11.0, 13.0, 14.0]]\n"
     ]
    },
    {
     "data": {
      "text/plain": [
       "[       Test name   Sets     0     1     2     3     4     5     6     7     8  \\\n",
       " 0  Mental demand  set 1  30.0  50.0  50.0  60.0  50.0  40.0  50.0  50.0  40.0   \n",
       " 1  Mental demand  set 2  40.0  40.0  40.0  40.0  40.0  40.0  60.0  60.0  50.0   \n",
       " 2  Mental demand  set 3  30.0  30.0  30.0  40.0  40.0  40.0  40.0  50.0  50.0   \n",
       " \n",
       "       9  \n",
       " 0  50.0  \n",
       " 1  50.0  \n",
       " 2  60.0  ,\n",
       "           Test name   Sets     0     1     2     3     4     5     6     7  \\\n",
       " 0  Physical demand   set 1  30.0  40.0  50.0  50.0  60.0  50.0  60.0  60.0   \n",
       " 1  Physical demand   set 2  40.0  50.0  50.0  50.0  60.0  60.0  70.0  70.0   \n",
       " 2  Physical demand   set 3  60.0  70.0  70.0  80.0  80.0  80.0  80.0  90.0   \n",
       " \n",
       "       8      9  \n",
       " 0  70.0   79.0  \n",
       " 1  80.0   90.0  \n",
       " 2  90.0  100.0  ,\n",
       "                              Test name   Sets     0     1     2     3     4  \\\n",
       " 0  Temporal performance ( how hurried)  set 1  30.0  40.0  40.0  40.0  40.0   \n",
       " 1  Temporal performance ( how hurried)  set 2  40.0  40.0  40.0  40.0  50.0   \n",
       " 2  Temporal performance ( how hurried)  set 3  50.0  50.0  50.0  50.0  60.0   \n",
       " \n",
       "       5     6     7     8     9  \n",
       " 0  40.0  40.0  40.0  40.0  40.0  \n",
       " 1  40.0  40.0  40.0  40.0  40.0  \n",
       " 2  50.0  50.0  60.0  50.0  60.0  ,\n",
       "      Test name   Sets     0     1     2     3     4     5     6     7     8  \\\n",
       " 0  Performance  set 1  70.0  50.0  60.0  70.0  80.0  80.0  60.0  70.0  80.0   \n",
       " 1  Performance  set 2  60.0  60.0  90.0  90.0  90.0  90.0  80.0  70.0  80.0   \n",
       " 2  Performance  set 3  60.0  60.0  70.0  70.0  50.0  70.0  90.0  60.0  70.0   \n",
       " \n",
       "       9  \n",
       " 0  70.0  \n",
       " 1  80.0  \n",
       " 2  80.0  ,\n",
       "   Test name   Sets     0     1     2     3     4     5      6      7     8  \\\n",
       " 0   Effort   set 1  90.0  90.0  90.0  90.0  90.0  90.0   90.0   90.0  90.0   \n",
       " 1   Effort   set 2  90.0  90.0  90.0  90.0  90.0  90.0   90.0   90.0  90.0   \n",
       " 2   Effort   set 3  80.0  90.0  90.0  90.0  90.0  90.0  100.0  100.0  90.0   \n",
       " \n",
       "        9  \n",
       " 0   90.0  \n",
       " 1   90.0  \n",
       " 2  100.0  ,\n",
       "      Test name   Sets     0     1     2     3     4     5     6     7     8  \\\n",
       " 0  Frustration  set 1   0.0  50.0  50.0  60.0  50.0  40.0  50.0  40.0  40.0   \n",
       " 1  Frustration  set 2  50.0  50.0  40.0  50.0  40.0  40.0  70.0  70.0  70.0   \n",
       " 2  Frustration  set 3  20.0  30.0  30.0  50.0  60.0  30.0  30.0  50.0  40.0   \n",
       " \n",
       "       9  \n",
       " 0  50.0  \n",
       " 1  50.0  \n",
       " 2  60.0  ,\n",
       "     Test name   Sets      0      1      2      3      4      5      6     7  \\\n",
       " 0  Motivation  set 1   80.0   80.0   80.0   80.0   80.0   80.0   80.0  80.0   \n",
       " 1  Motivation  set 2   80.0   80.0   80.0   80.0   80.0   80.0   80.0  80.0   \n",
       " 2  Motivation  set 3  100.0  100.0  100.0  100.0  100.0  100.0  100.0  90.0   \n",
       " \n",
       "       8     9  \n",
       " 0  80.0  80.0  \n",
       " 1  80.0  80.0  \n",
       " 2  90.0  90.0  ,\n",
       "    Test name   Sets     0     1     2     3     4     5     6     7     8  \\\n",
       " 0  bnb score  set 1  14.0   9.0  12.0  14.0  16.0  18.0  14.0  13.0  19.0   \n",
       " 1  bnb score  set 2  13.0  13.0  17.0  17.0  19.0  19.0  18.0  15.0  18.0   \n",
       " 2  bnb score  set 3   9.0   9.0  11.0  10.0   8.0  11.0  17.0  11.0  13.0   \n",
       " \n",
       "       9  \n",
       " 0  16.0  \n",
       " 1  15.0  \n",
       " 2  14.0  ]"
      ]
     },
     "execution_count": 321,
     "metadata": {},
     "output_type": "execute_result"
    }
   ],
   "source": [
    "def organise_sets(data = plt_TLX(), NASA_names =pd.Index(tlx_2['Test'])):\n",
    "    s1 = data[0] # set 1\n",
    "    s2 = data[1] # set 2\n",
    "    s3 = data[2] # set 3\n",
    "    data_name = [[] for i in range(0,len(NASA_names))]\n",
    "    \n",
    "    # set 1, set 2, set 3 index\n",
    "    idx = [('set '+str(i+1)) for i in range(0,3)]\n",
    "\n",
    "    for i in range(0,len(NASA_names)):\n",
    "        print([s1[i],s2[i],s3[i]])\n",
    "        data_name[i] = pd.DataFrame([s1[i],s2[i],s3[i]]) # 8*set 1\n",
    "\n",
    "        # add a column that identify sets, then add the string name of the data\n",
    "        data_name[i].index = pd.Series(idx)\n",
    "        data_name[i].reset_index(inplace = True)\n",
    "        data_name[i].index = pd.Series(NASA_names[i] for j in range(0,len(data_name[i])))\n",
    "        data_name[i].reset_index(inplace = True)\n",
    "        # reset the column name to 'Sets'\n",
    "        data_name[i].rename(columns ={'index':'Sets','level_0': 'Test name'}, inplace = True)\n",
    "\n",
    "    return data_name\n",
    "\n",
    "tlx_all = organise_sets()\n",
    "tlx_all"
   ]
  },
  {
   "cell_type": "markdown",
   "metadata": {},
   "source": [
    "# plotting individual participant results"
   ]
  },
  {
   "cell_type": "code",
   "execution_count": 322,
   "metadata": {},
   "outputs": [
    {
     "data": {
      "image/png": "[encoded data removed]",
      "text/plain": [
       "<Figure size 432x288 with 1 Axes>"
      ]
     },
     "metadata": {
      "needs_background": "light"
     },
     "output_type": "display_data"
    },
    {
     "data": {
      "image/png": "[encoded data removed]",
      "text/plain": [
       "<Figure size 432x288 with 1 Axes>"
      ]
     },
     "metadata": {
      "needs_background": "light"
     },
     "output_type": "display_data"
    },
    {
     "data": {
      "image/png": "[encoded data removed]",
      "text/plain": [
       "<Figure size 432x288 with 1 Axes>"
      ]
     },
     "metadata": {
      "needs_background": "light"
     },
     "output_type": "display_data"
    },
    {
     "data": {
      "image/png": "[encoded data removed]",
      "text/plain": [
       "<Figure size 432x288 with 1 Axes>"
      ]
     },
     "metadata": {
      "needs_background": "light"
     },
     "output_type": "display_data"
    },
    {
     "data": {
      "image/png": "[encoded data removed]",
      "text/plain": [
       "<Figure size 432x288 with 1 Axes>"
      ]
     },
     "metadata": {
      "needs_background": "light"
     },
     "output_type": "display_data"
    },
    {
     "data": {
      "image/png": "[encoded data removed]",
      "text/plain": [
       "<Figure size 432x288 with 1 Axes>"
      ]
     },
     "metadata": {
      "needs_background": "light"
     },
     "output_type": "display_data"
    },
    {
     "data": {
      "image/png": "[encoded data removed]",
      "text/plain": [
       "<Figure size 432x288 with 1 Axes>"
      ]
     },
     "metadata": {
      "needs_background": "light"
     },
     "output_type": "display_data"
    },
    {
     "data": {
      "image/png": "[encoded data removed]",
      "text/plain": [
       "<Figure size 432x288 with 1 Axes>"
      ]
     },
     "metadata": {
      "needs_background": "light"
     },
     "output_type": "display_data"
    }
   ],
   "source": [
    "# tlx_all[0] ---> mental\n",
    "# .iloc[0,2:]---> first row data, excluded the string data\n",
    "\n",
    "def plt_sets(data_name = tlx_all, test ='Human', NASA_names =pd.Index(tlx_2['Test'])):\n",
    "    path = 'C:/Users/evach/Documents/MSc/Diss_data/3_set_baseline/'+test+'/combine/'\n",
    "    # x = ['0ms delay', '150ms delay', '300ms delay']\n",
    "    if test == 'Weighted' or 'Human':\n",
    "        x =['0 g', '0.5 KG', '1 KG']\n",
    "        x_l = 'Different levels of weights'\n",
    "    elif test =='Latency': \n",
    "        x = ['0ms delay', '150ms delay', '300ms delay']\n",
    "        x_l = 'Different latency levels'\n",
    "\n",
    "    data = [[] for i in range(0, len(data_name))]\n",
    "    for i in range(0, len(data_name)):\n",
    "        s1_data = data_name[i].iloc[0,2:]\n",
    "        s2_data = data_name[i].iloc[1,2:]\n",
    "        s3_data = data_name[i].iloc[2,2:]\n",
    "        data[i] = [s1_data,s2_data,s3_data]\n",
    "        plt.boxplot(data[i], labels = x)\n",
    "        plt.title(NASA_names[i])\n",
    "        plt.xlabel(x_l)\n",
    "        plt.ylabel(NASA_names[i]+' score')\n",
    "        plt.show()\n",
    "        # # plt.savefig(path+'p-'+participant+' '+NASA_names[i]+' variation at different '+test+' level'+'.jpg')\n",
    "# each set of data has 8 rows; 8 questions\n",
    "# combine question[i] for set 1,2 and 3\n",
    "# create a data frame for each of the 8 question with sets combined: mental 1, mental 2, mental 3\n",
    "plt_sets()"
   ]
  },
  {
   "cell_type": "markdown",
   "metadata": {},
   "source": [
    "# Combine & concating all data generated from tlx_all (individual)\n",
    "---> 3 sets of data for all 8 questions concat into a big data frame\n",
    "24 x 11\n",
    "24 = 3 sets x 8 questions\n",
    "11 = 1 Set_name x 10 trials"
   ]
  },
  {
   "cell_type": "code",
   "execution_count": 545,
   "metadata": {},
   "outputs": [],
   "source": [
    "test = 'Human'\n",
    "path = 'C:/Users/evach/Documents/MSc/Diss_data/3_set_baseline/'+test+' 4 out of 4'+'/combine/NASA/'\n",
    "\n",
    "combine = pd.concat([tlx_all[i] for i in range(0,len(NASA_names))],axis=0)\n",
    "combine.reset_index(drop=True,inplace=True)\n",
    "combine\n",
    "combine.to_csv(path+participant+'NASA.csv')\n"
   ]
  },
  {
   "cell_type": "markdown",
   "metadata": {},
   "source": [
    "# Combine all participant data"
   ]
  },
  {
   "cell_type": "markdown",
   "metadata": {},
   "source": [
    "Still need to do this for weighted "
   ]
  },
  {
   "cell_type": "code",
   "execution_count": 546,
   "metadata": {},
   "outputs": [
    {
     "data": {
      "text/plain": [
       "'Human'"
      ]
     },
     "execution_count": 546,
     "metadata": {},
     "output_type": "execute_result"
    }
   ],
   "source": [
    "test"
   ]
  },
  {
   "cell_type": "code",
   "execution_count": 9,
   "metadata": {},
   "outputs": [],
   "source": [
    "# reading the files without the extra 'unnamed col'\n",
    "import glob\n",
    "\n",
    "path = 'C:/Users/evach/Documents/MSc/Diss_data/3_set_baseline/All/Latency_NASA_4/'\n",
    "\n",
    "\n",
    "files = glob.glob(path+'/*.csv')\n",
    "p_lst = (pd.read_csv(i, index_col=[0]) for i in files)\n",
    "\n",
    "for i in range(0, len([p_lst])):\n",
    "    combine = pd.concat(p_lst)\n",
    "combine = combine.iloc[:,:12]\n",
    "# combine.to_csv(path +'combined_all'+'.csv')"
   ]
  },
  {
   "cell_type": "code",
   "execution_count": 308,
   "metadata": {},
   "outputs": [
    {
     "data": {
      "text/html": [
       "<div>\n",
       "<style scoped>\n",
       "    .dataframe tbody tr th:only-of-type {\n",
       "        vertical-align: middle;\n",
       "    }\n",
       "\n",
       "    .dataframe tbody tr th {\n",
       "        vertical-align: top;\n",
       "    }\n",
       "\n",
       "    .dataframe thead th {\n",
       "        text-align: right;\n",
       "    }\n",
       "</style>\n",
       "<table border=\"1\" class=\"dataframe\">\n",
       "  <thead>\n",
       "    <tr style=\"text-align: right;\">\n",
       "      <th></th>\n",
       "      <th>Test name</th>\n",
       "      <th>Sets</th>\n",
       "      <th>0</th>\n",
       "      <th>1</th>\n",
       "      <th>2</th>\n",
       "      <th>3</th>\n",
       "      <th>4</th>\n",
       "      <th>5</th>\n",
       "      <th>6</th>\n",
       "      <th>7</th>\n",
       "      <th>8</th>\n",
       "      <th>9</th>\n",
       "    </tr>\n",
       "  </thead>\n",
       "  <tbody>\n",
       "    <tr>\n",
       "      <th>0</th>\n",
       "      <td>Mental demand</td>\n",
       "      <td>set 1</td>\n",
       "      <td>30.0</td>\n",
       "      <td>10.0</td>\n",
       "      <td>40.0</td>\n",
       "      <td>20.0</td>\n",
       "      <td>30.0</td>\n",
       "      <td>40.0</td>\n",
       "      <td>35.0</td>\n",
       "      <td>20.0</td>\n",
       "      <td>25.0</td>\n",
       "      <td>30.0</td>\n",
       "    </tr>\n",
       "    <tr>\n",
       "      <th>1</th>\n",
       "      <td>Mental demand</td>\n",
       "      <td>set 2</td>\n",
       "      <td>65.0</td>\n",
       "      <td>70.0</td>\n",
       "      <td>60.0</td>\n",
       "      <td>50.0</td>\n",
       "      <td>40.0</td>\n",
       "      <td>30.0</td>\n",
       "      <td>20.0</td>\n",
       "      <td>10.0</td>\n",
       "      <td>35.0</td>\n",
       "      <td>15.0</td>\n",
       "    </tr>\n",
       "    <tr>\n",
       "      <th>2</th>\n",
       "      <td>Mental demand</td>\n",
       "      <td>set 3</td>\n",
       "      <td>70.0</td>\n",
       "      <td>80.0</td>\n",
       "      <td>70.0</td>\n",
       "      <td>80.0</td>\n",
       "      <td>60.0</td>\n",
       "      <td>90.0</td>\n",
       "      <td>70.0</td>\n",
       "      <td>70.0</td>\n",
       "      <td>50.0</td>\n",
       "      <td>60.0</td>\n",
       "    </tr>\n",
       "    <tr>\n",
       "      <th>3</th>\n",
       "      <td>Physical demand</td>\n",
       "      <td>set 1</td>\n",
       "      <td>20.0</td>\n",
       "      <td>10.0</td>\n",
       "      <td>50.0</td>\n",
       "      <td>20.0</td>\n",
       "      <td>30.0</td>\n",
       "      <td>45.0</td>\n",
       "      <td>35.0</td>\n",
       "      <td>20.0</td>\n",
       "      <td>30.0</td>\n",
       "      <td>30.0</td>\n",
       "    </tr>\n",
       "    <tr>\n",
       "      <th>4</th>\n",
       "      <td>Physical demand</td>\n",
       "      <td>set 2</td>\n",
       "      <td>60.0</td>\n",
       "      <td>70.0</td>\n",
       "      <td>60.0</td>\n",
       "      <td>50.0</td>\n",
       "      <td>60.0</td>\n",
       "      <td>30.0</td>\n",
       "      <td>20.0</td>\n",
       "      <td>15.0</td>\n",
       "      <td>40.0</td>\n",
       "      <td>15.0</td>\n",
       "    </tr>\n",
       "    <tr>\n",
       "      <th>...</th>\n",
       "      <td>...</td>\n",
       "      <td>...</td>\n",
       "      <td>...</td>\n",
       "      <td>...</td>\n",
       "      <td>...</td>\n",
       "      <td>...</td>\n",
       "      <td>...</td>\n",
       "      <td>...</td>\n",
       "      <td>...</td>\n",
       "      <td>...</td>\n",
       "      <td>...</td>\n",
       "      <td>...</td>\n",
       "    </tr>\n",
       "    <tr>\n",
       "      <th>19</th>\n",
       "      <td>Motivation</td>\n",
       "      <td>set 2</td>\n",
       "      <td>60.0</td>\n",
       "      <td>60.0</td>\n",
       "      <td>70.0</td>\n",
       "      <td>70.0</td>\n",
       "      <td>80.0</td>\n",
       "      <td>80.0</td>\n",
       "      <td>80.0</td>\n",
       "      <td>80.0</td>\n",
       "      <td>85.0</td>\n",
       "      <td>85.0</td>\n",
       "    </tr>\n",
       "    <tr>\n",
       "      <th>20</th>\n",
       "      <td>Motivation</td>\n",
       "      <td>set 3</td>\n",
       "      <td>70.0</td>\n",
       "      <td>75.0</td>\n",
       "      <td>80.0</td>\n",
       "      <td>85.0</td>\n",
       "      <td>80.0</td>\n",
       "      <td>80.0</td>\n",
       "      <td>70.0</td>\n",
       "      <td>80.0</td>\n",
       "      <td>40.0</td>\n",
       "      <td>50.0</td>\n",
       "    </tr>\n",
       "    <tr>\n",
       "      <th>21</th>\n",
       "      <td>bnb score</td>\n",
       "      <td>set 1</td>\n",
       "      <td>7.0</td>\n",
       "      <td>8.0</td>\n",
       "      <td>4.0</td>\n",
       "      <td>6.0</td>\n",
       "      <td>11.0</td>\n",
       "      <td>10.0</td>\n",
       "      <td>11.0</td>\n",
       "      <td>15.0</td>\n",
       "      <td>17.0</td>\n",
       "      <td>15.0</td>\n",
       "    </tr>\n",
       "    <tr>\n",
       "      <th>22</th>\n",
       "      <td>bnb score</td>\n",
       "      <td>set 2</td>\n",
       "      <td>3.0</td>\n",
       "      <td>5.0</td>\n",
       "      <td>4.0</td>\n",
       "      <td>3.0</td>\n",
       "      <td>3.0</td>\n",
       "      <td>6.0</td>\n",
       "      <td>2.0</td>\n",
       "      <td>4.0</td>\n",
       "      <td>4.0</td>\n",
       "      <td>5.0</td>\n",
       "    </tr>\n",
       "    <tr>\n",
       "      <th>23</th>\n",
       "      <td>bnb score</td>\n",
       "      <td>set 3</td>\n",
       "      <td>7.0</td>\n",
       "      <td>7.0</td>\n",
       "      <td>7.0</td>\n",
       "      <td>9.0</td>\n",
       "      <td>8.0</td>\n",
       "      <td>11.0</td>\n",
       "      <td>4.0</td>\n",
       "      <td>6.0</td>\n",
       "      <td>5.0</td>\n",
       "      <td>5.0</td>\n",
       "    </tr>\n",
       "  </tbody>\n",
       "</table>\n",
       "<p>192 rows × 12 columns</p>\n",
       "</div>"
      ],
      "text/plain": [
       "           Test name   Sets     0     1     2     3     4     5     6     7  \\\n",
       "0      Mental demand  set 1  30.0  10.0  40.0  20.0  30.0  40.0  35.0  20.0   \n",
       "1      Mental demand  set 2  65.0  70.0  60.0  50.0  40.0  30.0  20.0  10.0   \n",
       "2      Mental demand  set 3  70.0  80.0  70.0  80.0  60.0  90.0  70.0  70.0   \n",
       "3   Physical demand   set 1  20.0  10.0  50.0  20.0  30.0  45.0  35.0  20.0   \n",
       "4   Physical demand   set 2  60.0  70.0  60.0  50.0  60.0  30.0  20.0  15.0   \n",
       "..               ...    ...   ...   ...   ...   ...   ...   ...   ...   ...   \n",
       "19        Motivation  set 2  60.0  60.0  70.0  70.0  80.0  80.0  80.0  80.0   \n",
       "20        Motivation  set 3  70.0  75.0  80.0  85.0  80.0  80.0  70.0  80.0   \n",
       "21         bnb score  set 1   7.0   8.0   4.0   6.0  11.0  10.0  11.0  15.0   \n",
       "22         bnb score  set 2   3.0   5.0   4.0   3.0   3.0   6.0   2.0   4.0   \n",
       "23         bnb score  set 3   7.0   7.0   7.0   9.0   8.0  11.0   4.0   6.0   \n",
       "\n",
       "       8     9  \n",
       "0   25.0  30.0  \n",
       "1   35.0  15.0  \n",
       "2   50.0  60.0  \n",
       "3   30.0  30.0  \n",
       "4   40.0  15.0  \n",
       "..   ...   ...  \n",
       "19  85.0  85.0  \n",
       "20  40.0  50.0  \n",
       "21  17.0  15.0  \n",
       "22   4.0   5.0  \n",
       "23   5.0   5.0  \n",
       "\n",
       "[192 rows x 12 columns]"
      ]
     },
     "execution_count": 308,
     "metadata": {},
     "output_type": "execute_result"
    }
   ],
   "source": [
    "combine"
   ]
  },
  {
   "cell_type": "code",
   "execution_count": 10,
   "metadata": {},
   "outputs": [],
   "source": [
    "# return the indices of the desired NASA test name, as pd.Index() return an array of T/F\n",
    "# we return the indice when the condition = true\n",
    "num_sets = 3\n",
    "# converting the T/F array to a list of index which will then be used in set_loc\n",
    "def find_idx(data):\n",
    "    ls =[]\n",
    "    for i in range(0,len(data)):\n",
    "        if data[i]:\n",
    "            ls.append(i)\n",
    "    return ls\n",
    "        \n",
    "\n",
    "def set_loc(test_name):\n",
    "    tst_name = pd.Index(combine['Test name']).get_loc(test_name) # get the location of desired set name, e.g. 'Mental command\n",
    "    name_idx = find_idx(tst_name)\n",
    "    name_frame = combine.iloc[name_idx,:12]\n",
    "    name_frame.reset_index(drop=True, inplace = True)\n",
    "\n",
    "    sets = ['set 1', 'set 2', 'set 3']\n",
    "    set_frame = [[] for i in range(0,num_sets)]\n",
    "    for i in range(0, len(sets)):\n",
    "        set_name  = pd.Index(name_frame['Sets']).get_loc(sets[i])\n",
    "        set_idx = find_idx(set_name)\n",
    "        set_frame[i] = name_frame.iloc[set_idx,:12]\n",
    "        set_frame[i].reset_index(drop = True, inplace = True)\n",
    "\n",
    "    return set_frame\n"
   ]
  },
  {
   "cell_type": "code",
   "execution_count": 323,
   "metadata": {},
   "outputs": [],
   "source": [
    "# mental_d = set_loc('Mental demand')\n",
    "\n",
    "# This function provide the according name as well as set separation of the data\n",
    "# data[0] is mental demand with all 3 sets of data, \n",
    "# data[0][0] = set 1\n",
    "# data[0][1] = set 2\n",
    "def nasa_name_set():\n",
    "    names = pd.Index(tlx_1['Test'])\n",
    "    data = [[] for i in range(0, len(names))]\n",
    "    for i in range(0,len(names)):\n",
    "        data[i] = set_loc(names[i])\n",
    "    return data\n",
    "\n",
    "separated_data = nasa_name_set()"
   ]
  },
  {
   "cell_type": "code",
   "execution_count": 324,
   "metadata": {},
   "outputs": [
    {
     "data": {
      "text/plain": [
       "[       Test name   Sets     0     1     2     3     4     5     6     7     8  \\\n",
       " 0  Mental demand  set 1  30.0  10.0  40.0  20.0  30.0  40.0  35.0  20.0  25.0   \n",
       " 1  Mental demand  set 1  90.0  85.0  90.0  90.0  90.0  90.0  90.0  90.0  92.0   \n",
       " 2  Mental demand  set 1  20.0  35.0  40.0  50.0  70.0  60.0  60.0  75.0  70.0   \n",
       " 3  Mental demand  set 1  75.0  70.0  60.0  70.0  80.0  80.0  70.0  60.0  70.0   \n",
       " 4  Mental demand  set 1  30.0  10.0  40.0  20.0  30.0  40.0  35.0  20.0  25.0   \n",
       " 5  Mental demand  set 1  90.0  85.0  90.0  90.0  90.0  90.0  90.0  90.0  92.0   \n",
       " 6  Mental demand  set 1  20.0  35.0  40.0  50.0  70.0  60.0  60.0  75.0  70.0   \n",
       " 7  Mental demand  set 1  75.0  70.0  60.0  70.0  80.0  80.0  70.0  60.0  70.0   \n",
       " \n",
       "       9  \n",
       " 0  30.0  \n",
       " 1  93.0  \n",
       " 2  50.0  \n",
       " 3  60.0  \n",
       " 4  30.0  \n",
       " 5  93.0  \n",
       " 6  50.0  \n",
       " 7  60.0  ,\n",
       "        Test name   Sets     0     1     2      3      4      5      6      7  \\\n",
       " 0  Mental demand  set 2  65.0  70.0  60.0   50.0   40.0   30.0   20.0   10.0   \n",
       " 1  Mental demand  set 2  90.0  93.0  90.0  100.0  100.0  100.0  100.0  100.0   \n",
       " 2  Mental demand  set 2  60.0  65.0  55.0   60.0   70.0   60.0   60.0   60.0   \n",
       " 3  Mental demand  set 2  70.0  80.0  70.0   75.0   75.0   80.0   80.0   80.0   \n",
       " 4  Mental demand  set 2  65.0  70.0  60.0   50.0   40.0   30.0   20.0   10.0   \n",
       " 5  Mental demand  set 2  90.0  93.0  90.0  100.0  100.0  100.0  100.0  100.0   \n",
       " 6  Mental demand  set 2  60.0  65.0  55.0   60.0   70.0   60.0   60.0   60.0   \n",
       " 7  Mental demand  set 2  70.0  80.0  70.0   75.0   75.0   80.0   80.0   80.0   \n",
       " \n",
       "        8      9  \n",
       " 0   35.0   15.0  \n",
       " 1  100.0  100.0  \n",
       " 2   65.0   70.0  \n",
       " 3   85.0   85.0  \n",
       " 4   35.0   15.0  \n",
       " 5  100.0  100.0  \n",
       " 6   65.0   70.0  \n",
       " 7   85.0   85.0  ,\n",
       "        Test name   Sets     0     1     2      3      4      5      6      7  \\\n",
       " 0  Mental demand  set 3  70.0  80.0  70.0   80.0   60.0   90.0   70.0   70.0   \n",
       " 1  Mental demand  set 3  65.0  80.0  90.0  100.0  100.0  100.0  100.0  100.0   \n",
       " 2  Mental demand  set 3  40.0  60.0  70.0   70.0   60.0   80.0   60.0   70.0   \n",
       " 3  Mental demand  set 3  80.0  70.0  70.0   80.0   80.0   85.0   80.0   75.0   \n",
       " 4  Mental demand  set 3  70.0  80.0  70.0   80.0   60.0   90.0   70.0   70.0   \n",
       " 5  Mental demand  set 3  65.0  80.0  90.0  100.0  100.0  100.0  100.0  100.0   \n",
       " 6  Mental demand  set 3  40.0  60.0  70.0   70.0   60.0   80.0   60.0   70.0   \n",
       " 7  Mental demand  set 3  80.0  70.0  70.0   80.0   80.0   85.0   80.0   75.0   \n",
       " \n",
       "        8      9  \n",
       " 0   50.0   60.0  \n",
       " 1  100.0  100.0  \n",
       " 2   80.0   75.0  \n",
       " 3   75.0   70.0  \n",
       " 4   50.0   60.0  \n",
       " 5  100.0  100.0  \n",
       " 6   80.0   75.0  \n",
       " 7   75.0   70.0  ]"
      ]
     },
     "execution_count": 324,
     "metadata": {},
     "output_type": "execute_result"
    }
   ],
   "source": [
    "separated_data[0]"
   ]
  },
  {
   "cell_type": "code",
   "execution_count": 325,
   "metadata": {},
   "outputs": [],
   "source": [
    "test = 'Latency'"
   ]
  },
  {
   "cell_type": "code",
   "execution_count": 329,
   "metadata": {},
   "outputs": [
    {
     "data": {
      "text/plain": [
       "array([[ 7., 10.,  8.,  7.,  7.,  3.,  6.,  7.,  9., 10.],\n",
       "       [11., 12., 11., 12., 12.,  8., 12., 15., 10., 14.],\n",
       "       [ 8.,  6.,  9., 10.,  8.,  9., 11.,  9.,  7., 11.],\n",
       "       [ 7.,  8.,  4.,  6., 11., 10., 11., 15., 17., 15.],\n",
       "       [ 7., 10.,  8.,  7.,  7.,  3.,  6.,  7.,  9., 10.],\n",
       "       [11., 12., 11., 12., 12.,  8., 12., 15., 10., 14.],\n",
       "       [ 8.,  6.,  9., 10.,  8.,  9., 11.,  9.,  7., 11.],\n",
       "       [ 7.,  8.,  4.,  6., 11., 10., 11., 15., 17., 15.]])"
      ]
     },
     "execution_count": 329,
     "metadata": {},
     "output_type": "execute_result"
    }
   ],
   "source": [
    "np.asarray(separated_data[i][0].iloc[:9,2:])"
   ]
  },
  {
   "cell_type": "code",
   "execution_count": 346,
   "metadata": {},
   "outputs": [
    {
     "data": {
      "text/plain": [
       "[[], [], [], [], [], [], [], []]"
      ]
     },
     "execution_count": 346,
     "metadata": {},
     "output_type": "execute_result"
    }
   ],
   "source": [
    "\n",
    "def plt_com(data_name= separated_data, test = test, path=path):\n",
    "    data = [[] for i in range(0, len(data_name))]\n",
    "\n",
    "    if test == 'Weighted' or 'Human':\n",
    "        x =['0 g', '0.5 KG', '1 KG']\n",
    "        x_l = 'Different levels of weights'\n",
    "\n",
    "    else: \n",
    "        x = ['0ms delay', '150ms delay', '300ms delay']\n",
    "        x_l = 'Different latency levels'\n",
    "    \n",
    "    for i in range(0, len(data_name)):\n",
    "        # s1_data = np.asarray(data_name[i][0].iloc[:9,2:]).flatten()\n",
    "        # s2_data = np.asarray(data_name[i][1].iloc[:9,2:]).flatten()\n",
    "        # s3_data = np.asarray(data_name[i][2].iloc[:9,2:]).flatten()\n",
    "\n",
    "        s1_data = np.asarray(data_name[i][0].iloc[:9,2:])#.flatten()\n",
    "        s2_data = np.asarray(data_name[i][1].iloc[:9,2:])#.flatten()\n",
    "        s3_data = np.asarray(data_name[i][2].iloc[:9,2:])#.flatten()\n",
    "\n",
    "        s1_m = np.mean(s1_data, axis = 0)\n",
    "        s2_m = np.mean(s2_data, axis = 0)\n",
    "        s3_m = np.mean(s3_data, axis = 0)\n",
    "\n",
    "        s_1_std = np.std(s1_data, axis =0)\n",
    "        s_2_std = np.std(s2_data, axis =0)\n",
    "        s_3_std = np.std(s3_data, axis =0)\n",
    "        \n",
    "        # plt.plot(s1_m, label = 'set 1')\n",
    "        # plt.fill_between(np.arange(10), s1_m + s_1_std, s1_m - s_1_std, alpha = 0.1)\n",
    "\n",
    "        # plt.plot(s2_m, label ='set 2')\n",
    "        # plt.fill_between(np.arange(10), s2_m + s_2_std, s2_m - s_2_std, alpha = 0.1)\n",
    "\n",
    "        # plt.plot(s3_m, label = 'set 3')\n",
    "        # plt.fill_between(np.arange(10), s3_m + s_3_std, s3_m - s_3_std, alpha = 0.1)\n",
    "        # plt.ylim([0,100])\n",
    "        # plt.title('Box plot')\n",
    "        # plt.legend()\n",
    "        # plt.show()\n",
    "        \n",
    "        # data[i] = [s1_data,s2_data,s3_data]\n",
    "        # plt.boxplot(data[i],labels = x)\n",
    "        # plt.title('Box plot for '+NASA_names[i])\n",
    "        # plt.xlabel(x_l)\n",
    "        # plt.ylabel(NASA_names[i]+' score')\n",
    "        # plt.savefig(path + NASA_names[i]+' box plots'+'.jpg')\n",
    "        # plt.show()\n",
    "    \n",
    "    # uncomment this return when wanting to get a combined array for ANOVA testing\n",
    "    return data\n",
    "plt_com()"
   ]
  },
  {
   "cell_type": "markdown",
   "metadata": {},
   "source": [
    "## Saving the flattened array for ANOVA testing"
   ]
  },
  {
   "cell_type": "code",
   "execution_count": 349,
   "metadata": {},
   "outputs": [],
   "source": [
    "a = plt_com()\n",
    "dic = {}\n",
    "keys = pd.Index(tlx_1['Test'])\n",
    "val = a\n",
    "\n",
    "for i in range(0,len(keys)):\n",
    "    dic[keys[i]] = val[i]\n"
   ]
  },
  {
   "cell_type": "code",
   "execution_count": 350,
   "metadata": {},
   "outputs": [
    {
     "data": {
      "text/plain": [
       "{'Mental demand': [],\n",
       " 'Physical demand ': [],\n",
       " 'Temporal performance ( how hurried)': [],\n",
       " 'Performance': [],\n",
       " 'Effort ': [],\n",
       " 'Frustration': [],\n",
       " 'Motivation': [],\n",
       " 'bnb score': []}"
      ]
     },
     "execution_count": 350,
     "metadata": {},
     "output_type": "execute_result"
    }
   ],
   "source": []
  },
  {
   "cell_type": "code",
   "execution_count": 553,
   "metadata": {},
   "outputs": [],
   "source": [
    "pd.DataFrame(dic).to_csv(path+'flattened array corresponding to each NASA test'+'.csv')"
   ]
  },
  {
   "cell_type": "markdown",
   "metadata": {},
   "source": [
    "Reshaping the data format into set oriented"
   ]
  },
  {
   "cell_type": "markdown",
   "metadata": {},
   "source": [
    "# testing method"
   ]
  },
  {
   "cell_type": "code",
   "execution_count": 279,
   "metadata": {},
   "outputs": [],
   "source": [
    "s1_mental = pd.Series(hold.loc[0,'Mental demand'])\n",
    "s2_mental = pd.Series(hold.loc[1,'Mental demand'])\n",
    "s3_mental = pd.Series(hold.loc[2,'Mental demand'])\n",
    "\n",
    "idx_s1 = ['set 1' for i in range(0,len(s1_mental))]\n",
    "idx_s2 = ['set 2' for i in range(0,len(s2_mental))]\n",
    "idx_s3 = ['set 3' for i in range(0,len(s3_mental))]\n",
    "\n",
    "idx_1 = pd.Series(idx_s1)\n",
    "idx_2 = pd.Series(idx_s2)\n",
    "idx_3 = pd.Series(idx_s3)\n",
    "\n",
    "s1_mental.index = idx_1\n",
    "s2_mental.index = idx_2\n",
    "s3_mental.index = idx_3\n",
    "\n",
    "s1 = s1_mental.reset_index(drop=False)\n",
    "s2 = s2_mental.reset_index(drop=False)\n",
    "s3 = s3_mental.reset_index(drop=False)\n",
    "\n",
    "\n",
    "s1.columns =['Sets','Mental demand']\n",
    "s2.columns =['Sets','Mental demand']\n",
    "s3.columns =['Sets','Mental demand']\n",
    "\n",
    "tst = pd.concat([s1,s2,s3], axis = 0)\n"
   ]
  },
  {
   "cell_type": "code",
   "execution_count": null,
   "metadata": {},
   "outputs": [],
   "source": [
    "# # ravel all the 'set 1', 2, and 3 data for 'mental demand'\n",
    "# b = np.array([hold[0][0],\n",
    "#               hold[1][0]],\n",
    "#               )\n",
    "# b.ravel()"
   ]
  },
  {
   "cell_type": "markdown",
   "metadata": {},
   "source": [
    "# Remove random latency data"
   ]
  },
  {
   "cell_type": "code",
   "execution_count": 495,
   "metadata": {},
   "outputs": [
    {
     "data": {
      "text/plain": [
       "[4, 6, 1, 3, 2, 5]"
      ]
     },
     "execution_count": 495,
     "metadata": {},
     "output_type": "execute_result"
    }
   ],
   "source": [
    "import random\n",
    "ls =[1,2,3,4,5,6]\n",
    "random.shuffle(ls)\n",
    "ls"
   ]
  },
  {
   "cell_type": "code",
   "execution_count": 556,
   "metadata": {},
   "outputs": [
    {
     "data": {
      "text/plain": [
       "[4, 6, 1, 3, 2]"
      ]
     },
     "execution_count": 556,
     "metadata": {},
     "output_type": "execute_result"
    }
   ],
   "source": [
    "ls.pop()\n",
    "ls"
   ]
  },
  {
   "cell_type": "code",
   "execution_count": 557,
   "metadata": {},
   "outputs": [
    {
     "data": {
      "text/plain": [
       "[6, 4, 3, 1, 2]"
      ]
     },
     "execution_count": 557,
     "metadata": {},
     "output_type": "execute_result"
    }
   ],
   "source": [
    "random.shuffle(ls)\n",
    "ls"
   ]
  },
  {
   "cell_type": "code",
   "execution_count": 558,
   "metadata": {},
   "outputs": [
    {
     "data": {
      "text/plain": [
       "[6, 4, 3, 1]"
      ]
     },
     "execution_count": 558,
     "metadata": {},
     "output_type": "execute_result"
    }
   ],
   "source": [
    "ls.pop()\n",
    "ls"
   ]
  },
  {
   "cell_type": "code",
   "execution_count": null,
   "metadata": {},
   "outputs": [],
   "source": []
  }
 ],
 "metadata": {
  "kernelspec": {
   "display_name": "Python 3.10.6 64-bit (microsoft store)",
   "language": "python",
   "name": "python3"
  },
  "language_info": {
   "codemirror_mode": {
    "name": "ipython",
    "version": 3
   },
   "file_extension": ".py",
   "mimetype": "text/x-python",
   "name": "python",
   "nbconvert_exporter": "python",
   "pygments_lexer": "ipython3",
   "version": "3.10.7"
  },
  "orig_nbformat": 4,
  "vscode": {
   "interpreter": {
    "hash": "0241e48769f7305f475736cfd22aa0e9a293847bdf53b195aaa1a7b58cbf9c14"
   }
  }
 },
 "nbformat": 4,
 "nbformat_minor": 2
}
