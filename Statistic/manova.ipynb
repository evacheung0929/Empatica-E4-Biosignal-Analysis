{
 "cells": [
  {
   "cell_type": "markdown",
   "metadata": {},
   "source": [
    "# MAOVA"
   ]
  },
  {
   "cell_type": "code",
   "execution_count": 2,
   "metadata": {},
   "outputs": [
    {
     "ename": "IndexError",
     "evalue": "list index out of range",
     "output_type": "error",
     "traceback": [
      "\u001b[1;31m---------------------------------------------------------------------------\u001b[0m",
      "\u001b[1;31mIndexError\u001b[0m                                Traceback (most recent call last)",
      "\u001b[1;32m~\\AppData\\Local\\Temp\\ipykernel_9812\\3643889159.py\u001b[0m in \u001b[0;36m<cell line: 16>\u001b[1;34m()\u001b[0m\n\u001b[0;32m     14\u001b[0m \u001b[1;33m\u001b[0m\u001b[0m\n\u001b[0;32m     15\u001b[0m \u001b[1;33m\u001b[0m\u001b[0m\n\u001b[1;32m---> 16\u001b[1;33m \u001b[0mhuman_bio\u001b[0m \u001b[1;33m=\u001b[0m \u001b[0mbio_lst\u001b[0m\u001b[1;33m[\u001b[0m\u001b[1;36m0\u001b[0m\u001b[1;33m]\u001b[0m\u001b[1;33m\u001b[0m\u001b[1;33m\u001b[0m\u001b[0m\n\u001b[0m\u001b[0;32m     17\u001b[0m \u001b[0mhuman_nasa\u001b[0m \u001b[1;33m=\u001b[0m \u001b[0mnasa_lst\u001b[0m\u001b[1;33m[\u001b[0m\u001b[1;36m0\u001b[0m\u001b[1;33m]\u001b[0m\u001b[1;33m\u001b[0m\u001b[1;33m\u001b[0m\u001b[0m\n\u001b[0;32m     18\u001b[0m \u001b[1;33m\u001b[0m\u001b[0m\n",
      "\u001b[1;31mIndexError\u001b[0m: list index out of range"
     ]
    }
   ],
   "source": [
    "from statsmodels.multivariate.manova import MANOVA\n",
    "import numpy as np\n",
    "import pandas as pd\n",
    "import glob\n",
    "\n",
    "nasa = 'C:/Users/evach/Documents/MSc/Diss_data/3_set_baseline/MANOVA_data/NASA/'\n",
    "bio = 'C:/Users/evach/Docum|ents/MSc/Diss_data/3_set_baseline/MANOVA_data/Biosignal'\n",
    "\n",
    "nasa_files = glob.glob(nasa + '/*.csv')\n",
    "bio_files = glob.glob(bio + '/*.csv')\n",
    "\n",
    "nasa_lst = [pd.read_csv(i, index_col=[0]) for i in nasa_files]\n",
    "bio_lst = [pd.read_csv(i, index_col=[0]) for i in bio_files]\n",
    "\n",
    "\n",
    "human_bio = bio_lst[0]\n",
    "human_nasa = nasa_lst[0]\n",
    "\n",
    "latency_4_bio = bio_lst[1]\n",
    "latency_4_nasa = nasa_lst[1]\n",
    "\n",
    "latency_bio = bio_lst[2]\n",
    "latency_nasa = nasa_lst[2]\n",
    "\n",
    "weighted_bio  = bio_lst[3]\n",
    "weighted_nasa = nasa_lst[3]"
   ]
  },
  {
   "cell_type": "code",
   "execution_count": 26,
   "metadata": {},
   "outputs": [],
   "source": [
    "def manova_bio(d):\n",
    "    result = MANOVA.from_formula('HR + EDA + \\\n",
    "                            TEMP  ~ Sets', data=d)\n",
    "    print(result.mv_test())\n",
    "    \n",
    "def manova_nasa(d):\n",
    "    result = MANOVA.from_formula('Performance + Frustration + Motivation\t \\\n",
    "                                   ~ Sets', data=d)\n",
    "    print(result.mv_test())"
   ]
  },
  {
   "cell_type": "code",
   "execution_count": 27,
   "metadata": {},
   "outputs": [
    {
     "name": "stdout",
     "output_type": "stream",
     "text": [
      "                  Multivariate linear model\n",
      "==============================================================\n",
      "                                                              \n",
      "--------------------------------------------------------------\n",
      "       Intercept        Value  Num DF  Den DF  F Value  Pr > F\n",
      "--------------------------------------------------------------\n",
      "          Wilks' lambda 0.1940 3.0000 265.0000 366.8778 0.0000\n",
      "         Pillai's trace 0.8060 3.0000 265.0000 366.8778 0.0000\n",
      " Hotelling-Lawley trace 4.1533 3.0000 265.0000 366.8778 0.0000\n",
      "    Roy's greatest root 4.1533 3.0000 265.0000 366.8778 0.0000\n",
      "--------------------------------------------------------------\n",
      "                                                              \n",
      "--------------------------------------------------------------\n",
      "           Sets          Value  Num DF  Den DF  F Value Pr > F\n",
      "--------------------------------------------------------------\n",
      "           Wilks' lambda 0.7468 6.0000 530.0000 13.8819 0.0000\n",
      "          Pillai's trace 0.2554 6.0000 532.0000 12.9787 0.0000\n",
      "  Hotelling-Lawley trace 0.3361 6.0000 351.5612 14.8152 0.0000\n",
      "     Roy's greatest root 0.3271 3.0000 266.0000 29.0011 0.0000\n",
      "==============================================================\n",
      "\n"
     ]
    }
   ],
   "source": [
    "# manova_bio(weighted_bio)\n",
    "# manova_bio(human_bio)\n",
    "# manova_nasa(weighted_nasa)\n",
    "manova_nasa(human_nasa)\n"
   ]
  },
  {
   "cell_type": "code",
   "execution_count": null,
   "metadata": {},
   "outputs": [],
   "source": []
  }
 ],
 "metadata": {
  "kernelspec": {
   "display_name": "Python 3.10.6 64-bit (microsoft store)",
   "language": "python",
   "name": "python3"
  },
  "language_info": {
   "codemirror_mode": {
    "name": "ipython",
    "version": 3
   },
   "file_extension": ".py",
   "mimetype": "text/x-python",
   "name": "python",
   "nbconvert_exporter": "python",
   "pygments_lexer": "ipython3",
   "version": "3.10.7"
  },
  "orig_nbformat": 4,
  "vscode": {
   "interpreter": {
    "hash": "0241e48769f7305f475736cfd22aa0e9a293847bdf53b195aaa1a7b58cbf9c14"
   }
  }
 },
 "nbformat": 4,
 "nbformat_minor": 2
}
